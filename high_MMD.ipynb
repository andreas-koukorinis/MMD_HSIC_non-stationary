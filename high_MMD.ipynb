{
 "cells": [
  {
   "cell_type": "markdown",
   "metadata": {},
   "source": [
    "# High-dimensional MMD"
   ]
  },
  {
   "cell_type": "code",
   "execution_count": null,
   "metadata": {},
   "outputs": [],
   "source": [
    "import numpy as np\n",
    "import matplotlib.pyplot as plt\n",
    "from scipy.stats import gamma\n",
    "import pickle"
   ]
  },
  {
   "cell_type": "markdown",
   "metadata": {},
   "source": [
    "Different combinations of $(X, Y)$ to evaluate the approximation methods.\n",
    "\n",
    "## Examples of one to three-dimensional distributions"
   ]
  },
  {
   "cell_type": "code",
   "execution_count": null,
   "metadata": {},
   "outputs": [],
   "source": [
    "#X = np.random.normal(0, 1, 256).reshape(-1,1)\n",
    "#X = np.random.exponential(size=100).reshape(-1,1)\n",
    "#X = np.random.chisquare(1, size=20).reshape(-1,1)\n",
    "#X = np.random.multivariate_normal([0,1,2], [[1,1,1], [1,1,1], [1,1,1]], size=256)\n",
    "\n",
    "\n",
    "#Y = np.random.normal(0, 1, 256).reshape(-1,1)\n",
    "#Y = np.random.exponential(size=256).reshape(-1,1)\n",
    "#Y = np.random.randn(20*128).reshape(20,-1)\n",
    "#Y = np.random.multivariate_normal([0,1,2], [[1,1,1], [1,1,1], [1,1,1]], size=256)"
   ]
  },
  {
   "cell_type": "markdown",
   "metadata": {},
   "source": [
    "## Examples of higher-dimensional distributions\n",
    "\n",
    "`delta` and `gam` are the departures from $H_0: P_X = P_Y$ of MMD. If they are non-zero, the alternative hypothesis $H_1: P_X \\neq P_Y$ is true."
   ]
  },
  {
   "cell_type": "code",
   "execution_count": null,
   "metadata": {},
   "outputs": [],
   "source": [
    "# dimensions\n",
    "dim = 10   # resulting dimensions is dim+1\n",
    "\n",
    "# mean shift\n",
    "delta = 0\n",
    "\n",
    "# variance shift\n",
    "gam = 0\n",
    " \n",
    "# how many samples\n",
    "sample_size = 256\n",
    "\n",
    "# set how far to shift Y (+ shifts to the left, - shifts to the right)\n",
    "shift_par = 0\n",
    "\n",
    "print('Shifting for:', shift_par)"
   ]
  },
  {
   "cell_type": "code",
   "execution_count": null,
   "metadata": {},
   "outputs": [],
   "source": [
    "x1 = np.linspace(0,1, dim+1)\n",
    "time1 = x1\n",
    "print(time1)\n",
    "plt.figure(figsize=(16,10))\n",
    "plt.plot(time1, 'xr', markersize=16);\n",
    "plt.show()"
   ]
  },
  {
   "cell_type": "code",
   "execution_count": null,
   "metadata": {},
   "outputs": [],
   "source": [
    "x2 = np.linspace(0, 1, dim+1)\n",
    "\n",
    "# mean shift\n",
    "time2 = time1 + delta * time1**3\n",
    "\n",
    "print(time2)\n",
    "plt.figure(figsize=(16,10))\n",
    "plt.plot(time2, 'xr', markersize=16);\n",
    "plt.show()"
   ]
  },
  {
   "cell_type": "markdown",
   "metadata": {},
   "source": [
    "# Generating high-dimensional distributions \n",
    "\n",
    "## Generating process for mean shift"
   ]
  },
  {
   "cell_type": "code",
   "execution_count": null,
   "metadata": {},
   "outputs": [],
   "source": [
    "# generating distributions over time for mean shift\n",
    "\n",
    "def gen_mean_shift(time1, time2, s, sample_size):\n",
    "    t1d = np.empty((0, sample_size))\n",
    "    t2d = np.empty((0, sample_size))\n",
    "\n",
    "    np.random.seed(s)\n",
    "    for t in time1:\n",
    "        var = np.random.uniform(0,0.25,1)\n",
    "        dist1 = np.random.normal(t, var, sample_size)\n",
    "        t1d = np.append(t1d, [dist1], axis=0)\n",
    "    \n",
    "    np.random.seed(s)\n",
    "    for t in time2:\n",
    "        var = np.random.uniform(0,0.25,1)    # same variance due to random seed\n",
    "        dist2 = np.random.normal(t, var, sample_size)\n",
    "        t2d = np.append(t2d, [dist2], axis=0)\n",
    "\n",
    "\n",
    "    # shifting time2\n",
    "    if shift_par >= 0:\n",
    "        t2d = t2d[shift_par:]\n",
    "    elif shift_par < 0:\n",
    "        t2d = t2d[:shift_par]\n",
    "\n",
    "    time1d = t1d.T\n",
    "    time2d = t2d.T\n",
    "    \n",
    "    return time1d, time2d"
   ]
  },
  {
   "cell_type": "code",
   "execution_count": null,
   "metadata": {},
   "outputs": [],
   "source": [
    "time1d, time2d = gen_mean_shift(time1, time2, s=1, sample_size=256)"
   ]
  },
  {
   "cell_type": "markdown",
   "metadata": {},
   "source": [
    "## Generating process for variance shift"
   ]
  },
  {
   "cell_type": "code",
   "execution_count": null,
   "metadata": {},
   "outputs": [],
   "source": [
    "# generating distributions over time for variance shift\n",
    "\n",
    "def gen_var_shift(time1, time2, s, sample_size, gam):\n",
    "    t1d = np.empty((0, sample_size))\n",
    "    t2d = np.empty((0, sample_size))\n",
    "\n",
    "    np.random.seed(s)\n",
    "    for t in np.zeros(dim+1):\n",
    "        \n",
    "        # distribution for time1\n",
    "        var1 = np.random.uniform(0,0.25,1)\n",
    "        dist1 = np.random.normal(t, var1, sample_size)\n",
    "        t1d = np.append(t1d, [dist1], axis=0)\n",
    "        \n",
    "        # distribution for time2\n",
    "        var2 = var1 + gam    # gam added to same variance\n",
    "        dist2 = np.random.normal(t, var2, sample_size)\n",
    "        t2d = np.append(t2d, [dist2], axis=0)\n",
    "\n",
    "\n",
    "    # shifting time2\n",
    "    if shift_par >= 0:\n",
    "        t2d = t2d[shift_par:]\n",
    "    elif shift_par < 0:\n",
    "        t2d = t2d[:shift_par]\n",
    "\n",
    "    time1d = t1d.T\n",
    "    time2d = t2d.T\n",
    "    \n",
    "    return time1d, time2d"
   ]
  },
  {
   "cell_type": "code",
   "execution_count": null,
   "metadata": {},
   "outputs": [],
   "source": [
    "time1d, time2d = gen_var_shift(time1, time2, s=1, sample_size=256, gam=0)"
   ]
  },
  {
   "cell_type": "markdown",
   "metadata": {},
   "source": [
    "### Plottings"
   ]
  },
  {
   "cell_type": "code",
   "execution_count": null,
   "metadata": {},
   "outputs": [],
   "source": [
    "# different dimensions\n",
    "print(time1d.shape)\n",
    "plt.figure(figsize=(16,10))\n",
    "plt.axis([-1, time1d.shape[1], -1, 2])\n",
    "plt.plot(time1d.T);\n",
    "plt.show()"
   ]
  },
  {
   "cell_type": "code",
   "execution_count": null,
   "metadata": {},
   "outputs": [],
   "source": [
    "print(time2d.shape)\n",
    "plt.figure(figsize=(16,10))\n",
    "plt.axis([-1, time2d.shape[1], -1, 2])\n",
    "plt.plot(time2d.T);\n",
    "plt.show()"
   ]
  },
  {
   "cell_type": "code",
   "execution_count": null,
   "metadata": {},
   "outputs": [],
   "source": [
    "# same dimensions\n",
    "if shift_par > 0:\n",
    "    X = time1d[:, :-shift_par]\n",
    "    Y = time2d\n",
    "elif shift_par < 0:\n",
    "    X = time1d[:, -shift_par:]\n",
    "    Y = time2d\n",
    "else:\n",
    "    X = time1d\n",
    "    Y = time2d"
   ]
  },
  {
   "cell_type": "code",
   "execution_count": null,
   "metadata": {},
   "outputs": [],
   "source": [
    "print(X.shape)\n",
    "plt.figure(figsize=(16,10))\n",
    "plt.axis([-1, X.shape[1], -1, 2])\n",
    "plt.plot(X.T);\n",
    "plt.show()"
   ]
  },
  {
   "cell_type": "code",
   "execution_count": null,
   "metadata": {},
   "outputs": [],
   "source": [
    "print(Y.shape)\n",
    "plt.figure(figsize=(16,10))\n",
    "plt.axis([-1, Y.shape[1], -1, 2])\n",
    "plt.plot(Y.T);\n",
    "plt.show()"
   ]
  },
  {
   "cell_type": "markdown",
   "metadata": {},
   "source": [
    "### Auxiliary functions"
   ]
  },
  {
   "cell_type": "code",
   "execution_count": null,
   "metadata": {},
   "outputs": [],
   "source": [
    "# median heuristic for kernel width\n",
    "def width(Z):\n",
    "    # compute median for Z\n",
    "    size_Z = Z.shape[0]\n",
    "    if size_Z > 100:\n",
    "        Z_med = Z[0:100]\n",
    "        size_Z = 100\n",
    "    else:\n",
    "        Z_med = Z\n",
    "\n",
    "    G_Z = np.sum(np.multiply(Z_med, Z_med), axis=1).reshape(-1,1)\n",
    "    Q_Z = np.tile(G_Z, (1, size_Z))\n",
    "    R_Z = np.tile(G_Z.T, (size_Z, 1))\n",
    "    dists_Z = Q_Z + R_Z - 2 * Z_med @ Z_med.T\n",
    "    distances_Z = (dists_Z - np.tril(dists_Z)).reshape(-1, 1)\n",
    "    width_Z = np.sqrt(0.5*np.median(distances_Z[distances_Z>0]))\n",
    "    d_Z = Z.shape[1]\n",
    "    \n",
    "    return d_Z * width_Z\n",
    "\n",
    "\n",
    "# rbf dot product\n",
    "def rbf_dot(X, Y, width):\n",
    "    size_X = X.shape\n",
    "    size_Y = Y.shape\n",
    "    \n",
    "    G = np.sum(np.multiply(X, X), axis=1).reshape(-1,1)\n",
    "    H = np.sum(np.multiply(Y, Y), axis=1).reshape(-1,1)\n",
    "    \n",
    "    Q = np.tile(G, (1, size_Y[0]))\n",
    "    R = np.tile(H.T, (size_X[0], 1))\n",
    "    \n",
    "    H = Q + R - 2 * X @ Y.T\n",
    "    \n",
    "    # rbf kernel\n",
    "    K = np.exp(-H/(2*width**2))\n",
    "    \n",
    "    return K"
   ]
  },
  {
   "cell_type": "markdown",
   "metadata": {},
   "source": [
    "---------------------------\n",
    "#### Interlude: can X and Y have different sample sizes?\n",
    "\n",
    "We test whether our implemented test statistic function `stat_d` produces the same results as the original function `stat` which only works for same sample size of __X__ and **Y**. Both are defined as two multi-variate Gaussians of the same dimension and same sample sizes."
   ]
  },
  {
   "cell_type": "code",
   "execution_count": null,
   "metadata": {},
   "outputs": [],
   "source": [
    "X = np.random.multivariate_normal([0,1,2], [[1,1,1], [1,1,1], [1,1,1]], size=2048)\n",
    "Y = np.random.multivariate_normal([10,11,12], [[11,11,11], [11,11,11], [11,11,11]], size=2048)\n",
    "\n",
    "print(X.shape)\n",
    "print(Y.shape)"
   ]
  },
  {
   "cell_type": "code",
   "execution_count": null,
   "metadata": {},
   "outputs": [],
   "source": [
    "m = X.shape[0]\n",
    "n = Y.shape[0]\n",
    "\n",
    "# compute Gram matrices\n",
    "K = rbf_dot(X, X, -1)\n",
    "L = rbf_dot(Y, Y, -1)\n",
    "KL = rbf_dot(X, Y, -1)\n",
    "\n",
    "# MMD\n",
    "stat_d = 1/(m*(m-1)) * np.sum(K) + 1/(n*(n-1)) * np.sum(L) - 1/(m*(m-1)) * np.sum(KL) - 1/(n*(n-1)) * np.sum(KL.T)\n",
    "stat = 1/(m*(m-1)) * (np.sum(K + L - KL - KL.T))"
   ]
  },
  {
   "cell_type": "code",
   "execution_count": null,
   "metadata": {},
   "outputs": [],
   "source": [
    "print(stat_d)\n",
    "print(stat)"
   ]
  },
  {
   "cell_type": "markdown",
   "metadata": {},
   "source": [
    "We can see that the implemented test statistic `stat` and the equation `stat_d` are identical for the same sample size.\n",
    "\n",
    "------------------------------\n",
    "\n",
    "# Statistical test based on MMD\n",
    "We test statistically whether $\\mathcal{H}_0 : P_X = P_Y$ holds true."
   ]
  },
  {
   "cell_type": "markdown",
   "metadata": {},
   "source": [
    "## MMD with permutations"
   ]
  },
  {
   "cell_type": "code",
   "execution_count": null,
   "metadata": {},
   "outputs": [],
   "source": [
    "def MMD_permutations(X, Y, alpha, width_X, width_Y, width_XY, shuffle): # set widths to -1 for median heuristics\n",
    "    \n",
    "    m = X.shape[0]\n",
    "    \n",
    "    # median heuristics for kernel width\n",
    "    if width_X == -1:\n",
    "        width_X = width(X)      \n",
    "    if width_Y == -1:\n",
    "        width_Y = width(Y)\n",
    "    if width_XY == -1:\n",
    "        width_XY = width(np.concatenate([X, Y]))\n",
    "    \n",
    "    # compute Gram matrices\n",
    "    K = rbf_dot(X, X, width_X)\n",
    "    L = rbf_dot(Y, Y, width_Y)\n",
    "    KL = rbf_dot(X, Y, width_XY)\n",
    "    \n",
    "    # test statistic\n",
    "    stat = 1/m * (np.sum(K + L - KL - KL.T))\n",
    "    \n",
    "    Kz = np.concatenate((np.concatenate((K, KL), axis=1), np.concatenate((KL.T, L), axis=1)), axis=0)\n",
    "    \n",
    "    # initiating MMD\n",
    "    MMD_arr = np.zeros(shuffle)\n",
    "    \n",
    "    # create permutations by reshuffling L except the main diagonal\n",
    "    for sh in range(shuffle):\n",
    "        index_perm = np.random.permutation(Kz.shape[0])\n",
    "        Kz_perm = Kz[np.ix_(index_perm, index_perm)]\n",
    "        \n",
    "        K = Kz_perm[:m, :m]\n",
    "        L = Kz_perm[m:, m:]\n",
    "        KL = Kz_perm[:m, m:]\n",
    "        \n",
    "        MMD_arr[sh] = 1/m * (np.sum(K + L - KL - KL.T))\n",
    "        \n",
    "    MMD_arr_sort = np.sort(MMD_arr)\n",
    "    \n",
    "    # computing 1-alpha threshold\n",
    "    threshold = MMD_arr_sort[round((1-alpha)*shuffle)]\n",
    "        \n",
    "    \"\"\"\n",
    "    if stat > threshold:\n",
    "        print('H0 rejected')\n",
    "    else:\n",
    "        print('H0 accepted')\n",
    "    \"\"\"\n",
    "    \n",
    "    return stat, threshold"
   ]
  },
  {
   "cell_type": "markdown",
   "metadata": {},
   "source": [
    "## MMD with Gamma distribution approximation"
   ]
  },
  {
   "cell_type": "code",
   "execution_count": null,
   "metadata": {},
   "outputs": [],
   "source": [
    "def MMD_gamma(X, Y, alpha, width_X, width_Y, width_XY):    # set widths to -1 for median heuristics\n",
    "    \n",
    "    m = X.shape[0]\n",
    "    \n",
    "    # median heuristics for kernel width\n",
    "    if width_X == -1:\n",
    "        width_X = width(X)      \n",
    "    if width_Y == -1:\n",
    "        width_Y = width(Y)\n",
    "    if width_XY == -1:\n",
    "        width_XY = width(np.concatenate([X, Y]))\n",
    "    \n",
    "    # compute Gram matrices\n",
    "    K = rbf_dot(X, X, width_X)\n",
    "    L = rbf_dot(Y, Y, width_Y)\n",
    "    KL = rbf_dot(X, Y, width_XY)\n",
    "    \n",
    "    # test statistic\n",
    "    stat = 1/m * (np.sum(K + L - KL - KL.T))   \n",
    "    \n",
    "    # fitting Gamma distribution to stat\n",
    "    mMMD = 2/m * (1 - 1/m * np.trace(KL))    # mean under H0\n",
    "    \n",
    "    K_diag = K - np.diag(np.diag(K))\n",
    "    L_diag = L - np.diag(np.diag(L))\n",
    "    KL_diag = KL - np.diag(np.diag(KL))\n",
    "    \n",
    "    varMMD = 2/(m*(m-1)) * 1/(m*(m-1)) * np.sum(np.power((K_diag + L_diag - KL_diag - KL_diag.T), 2))    # variance under H0\n",
    "    \n",
    "    al = mMMD**2 / varMMD\n",
    "    bet = varMMD * m / mMMD\n",
    "    \n",
    "    # computing 1-alpha threshold\n",
    "    threshold = gamma.ppf(1-alpha, al, scale=bet)\n",
    "    \n",
    "    \"\"\"\n",
    "    if stat > threshold:\n",
    "        print('H0 rejected')\n",
    "    else:\n",
    "        print('H0 accepted')\n",
    "    \"\"\"\n",
    "    \n",
    "    return stat, threshold"
   ]
  },
  {
   "cell_type": "markdown",
   "metadata": {},
   "source": [
    "### Evaluations"
   ]
  },
  {
   "cell_type": "code",
   "execution_count": null,
   "metadata": {
    "scrolled": true
   },
   "outputs": [],
   "source": [
    "# test level alpha = 0.05, 5000 permutations\n",
    "MMD_permutations(X, Y, 0.05, -1, -1, -1, 5000)"
   ]
  },
  {
   "cell_type": "code",
   "execution_count": null,
   "metadata": {},
   "outputs": [],
   "source": [
    "# test level alpha = 0.05\n",
    "MMD_gamma(X, Y, 0.05, -1, -1, -1)"
   ]
  },
  {
   "cell_type": "markdown",
   "metadata": {},
   "source": [
    "## Power estimation\n",
    "\n",
    "We estimate the statistical power based on 1000 replications for each setting. Our experiment settings compose of various dimensions, sample sizes, mean shifts `delta`, and variance shifts `gam`."
   ]
  },
  {
   "cell_type": "code",
   "execution_count": null,
   "metadata": {},
   "outputs": [],
   "source": [
    "# dimensions\n",
    "dims = [1, 5, 10, 25]\n",
    "\n",
    "# sample sizes\n",
    "sample_sizes = [64, 128, 256, 512]\n",
    "\n",
    "# mean shift\n",
    "deltas = np.concatenate([np.linspace(0, 0.2, 11), np.linspace(0.25, 4, 39)])\n",
    "\n",
    "# variance shift\n",
    "gams = np.concatenate([np.linspace(0, 0.005, 11), np.linspace(0.008, 1, 39)])\n",
    "\n",
    "# shifting process Y against X\n",
    "shift_pars = [0] #, 1, 2]"
   ]
  },
  {
   "cell_type": "markdown",
   "metadata": {},
   "source": [
    "### Power estimation for mean shift"
   ]
  },
  {
   "cell_type": "code",
   "execution_count": null,
   "metadata": {
    "scrolled": true
   },
   "outputs": [],
   "source": [
    "MMD_p_m = {}\n",
    "MMD_g_m = {}\n",
    "\n",
    "for dim in dims:\n",
    "    print('Dimensions:', dim)\n",
    "    for sample_size in sample_sizes:\n",
    "        print('Sample size:', sample_size)\n",
    "        for delta in deltas:\n",
    "            print('delta:', delta)\n",
    "            for shift_par in shift_pars:\n",
    "                #print('Shift:', shift_par)\n",
    "                \n",
    "                MMD_p_m_list = []\n",
    "                MMD_g_m_list = []\n",
    "                \n",
    "                # repeating 500 times\n",
    "                for i in range(200):\n",
    "            \n",
    "                    # defining X\n",
    "                    time1 = np.linspace(0,1, dim+1)\n",
    "\n",
    "                    # defining Y\n",
    "                    time2 = time1 + delta * time1**3\n",
    "\n",
    "                    time1d, time2d = gen_mean_shift(time1, time2, s=i, sample_size=sample_size)    # having each time different random seed\n",
    "\n",
    "                    # bringing X and Y in same space\n",
    "                    if shift_par > 0:\n",
    "                        X = time1d[:, :-shift_par]\n",
    "                        Y = time2d\n",
    "                    elif shift_par < 0:\n",
    "                        X = time1d[:, -shift_par:]\n",
    "                        Y = time2d\n",
    "                    else:\n",
    "                        X = time1d\n",
    "                        Y = time2d\n",
    "\n",
    "                    # test level alpha = 0.05, 5000 permutations\n",
    "                    MMD_p_m_list.append(MMD_permutations(X, Y, 0.05, -1, -1, -1, 1000))\n",
    "\n",
    "                    # test level alpha = 0.05\n",
    "                    MMD_g_m_list.append(MMD_gamma(X, Y, 0.05, -1, -1, -1))\n",
    "                    \n",
    "                MMD_p_m[(dim, sample_size, delta, shift_par)] = MMD_p_m_list\n",
    "                MMD_g_m[(dim, sample_size, delta, shift_par)] = MMD_g_m_list"
   ]
  },
  {
   "cell_type": "code",
   "execution_count": null,
   "metadata": {},
   "outputs": [],
   "source": [
    "# saving\n",
    "m_shift_p = open('mean_shifts_p_{}.pkl'.format(dims), 'wb')\n",
    "pickle.dump(MMD_p_m, m_shift_p)\n",
    "m_shift_p.close()\n",
    "\n",
    "m_shift_g = open('mean_shifts_g_{}.pkl'.format(dims), 'wb')\n",
    "pickle.dump(MMD_g_m, m_shift_g)\n",
    "m_shift_g.close()"
   ]
  },
  {
   "cell_type": "markdown",
   "metadata": {},
   "source": [
    "### Power estimation for variance shift"
   ]
  },
  {
   "cell_type": "code",
   "execution_count": null,
   "metadata": {},
   "outputs": [],
   "source": [
    "MMD_p_var = {}\n",
    "MMD_g_var = {}\n",
    "\n",
    "for dim in dims:\n",
    "    print('Dimensions:', dim)\n",
    "    for sample_size in sample_sizes:\n",
    "        print('Sample size:', sample_size)\n",
    "        for gam in gams:\n",
    "            print('gamma:', gam)\n",
    "            for shift_par in shift_pars:\n",
    "                print('Shift:', shift_par)\n",
    "                \n",
    "                MMD_p_var_list = []\n",
    "                MMD_g_var_list = []\n",
    "                \n",
    "                # repeating 500 times\n",
    "                for i in range(500):\n",
    "            \n",
    "                    # defining X\n",
    "                    time1 = np.zeros(dim+1)\n",
    "                    \n",
    "                    # defining Y\n",
    "                    time2 = np.zeros(dim+1)\n",
    "                \n",
    "                    time1d, time2d = gen_var_shift(time1, time2, s=i, sample_size=sample_size, gam=gam)    # having each time different random seed\n",
    "\n",
    "                    # bringing X and Y in same space\n",
    "                    if shift_par > 0:\n",
    "                        X = time1d[:, :-shift_par]\n",
    "                        Y = time2d\n",
    "                    elif shift_par < 0:\n",
    "                        X = time1d[:, -shift_par:]\n",
    "                        Y = time2d\n",
    "                    else:\n",
    "                        X = time1d\n",
    "                        Y = time2d\n",
    "\n",
    "                    # test level alpha = 0.05, 5000 permutations\n",
    "                    MMD_p_var_list.append(MMD_permutations(X, Y, 0.05, -1, -1, -1, 5000))\n",
    "\n",
    "                    # test level alpha = 0.05\n",
    "                    MMD_g_var_list.append(MMD_gamma(X, Y, 0.05, -1, -1, -1))\n",
    "                    \n",
    "                MMD_p_var[(dim, sample_size, delta, shift_par)] = MMD_p_var_list\n",
    "                MMD_g_var[(dim, sample_size, delta, shift_par)] = MMD_g_var_list"
   ]
  },
  {
   "cell_type": "code",
   "execution_count": null,
   "metadata": {},
   "outputs": [],
   "source": [
    "# saving\n",
    "var_shift_p = open('var_shifts_p.pkl', 'wb')\n",
    "pickle.dump(MMD_p_var, var_shift_p)\n",
    "m_shift_p.close()\n",
    "\n",
    "var_shift_g = open('var_shifts_g.pkl', 'wb')\n",
    "pickle.dump(MMD_g_var, var_shift_g)\n",
    "var_shift_g.close()"
   ]
  },
  {
   "cell_type": "code",
   "execution_count": null,
   "metadata": {},
   "outputs": [],
   "source": []
  }
 ],
 "metadata": {
  "kernelspec": {
   "display_name": "Python 3.5",
   "language": "python",
   "name": "python3"
  },
  "language_info": {
   "codemirror_mode": {
    "name": "ipython",
    "version": 3
   },
   "file_extension": ".py",
   "mimetype": "text/x-python",
   "name": "python",
   "nbconvert_exporter": "python",
   "pygments_lexer": "ipython3",
   "version": "3.5.6"
  }
 },
 "nbformat": 4,
 "nbformat_minor": 2
}
