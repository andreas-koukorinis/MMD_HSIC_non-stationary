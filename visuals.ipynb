{
 "cells": [
  {
   "cell_type": "code",
   "execution_count": null,
   "metadata": {},
   "outputs": [],
   "source": [
    "import matplotlib.pyplot as plt\n",
    "from mpl_toolkits.axes_grid1.inset_locator import zoomed_inset_axes\n",
    "from mpl_toolkits.axes_grid1.inset_locator import mark_inset\n",
    "import numpy as np\n",
    "import pandas as pd\n",
    "import pickle"
   ]
  },
  {
   "cell_type": "markdown",
   "metadata": {},
   "source": [
    "__Keys__ of `dict_results` have the form `(dim, sample_size, power, mult, shift_par)`.\n",
    "\n",
    "__Values__ of `dict_results` have the form `(statistic, threshold)`.\n",
    "\n",
    "\n",
    "# HSIC\n",
    "To check the statistical power, we take the 200 reputations for every configuration written in the keys and compute the probability of rejection, given the null hypothesis is false.\n",
    "\n",
    "$H_0: P_{XY} = P_X P_Y$"
   ]
  },
  {
   "cell_type": "code",
   "execution_count": null,
   "metadata": {},
   "outputs": [],
   "source": [
    "# define folder and file\n",
    "path = 'high_HSIC'\n",
    "test_ = 'p'\n",
    "test__ = 'Gamma' # 'permutation' # \n",
    "dim = 25\n",
    "file = 'dependencies_{}_[{}]'.format(test_, dim)\n",
    "\n",
    "dict_results = pickle.load(open('{}/{}.pkl'.format(path, file), 'rb'))"
   ]
  },
  {
   "cell_type": "code",
   "execution_count": null,
   "metadata": {},
   "outputs": [],
   "source": [
    "power = {}\n",
    "rejections = {}\n",
    "\n",
    "for key in dict_results.keys():\n",
    "    #print(key)\n",
    "    rejections[key] = 0\n",
    "    for i in range(len(dict_results[key])):\n",
    "        if dict_results[key][i][0] > dict_results[key][i][1]:\n",
    "            rejections[key] += 1\n",
    "        else:\n",
    "            pass\n",
    "    # statistical power\n",
    "    power[key] = 100 * rejections[key] / len(dict_results[key])"
   ]
  },
  {
   "cell_type": "markdown",
   "metadata": {},
   "source": [
    "## Visualisations"
   ]
  },
  {
   "cell_type": "code",
   "execution_count": null,
   "metadata": {},
   "outputs": [],
   "source": [
    "power_df = pd.DataFrame.from_dict(data=power, orient='index').reset_index()\n",
    "power_df0 = power_df['index'].apply(pd.Series)\n",
    "power_df1 = pd.concat([power_df0, power_df], axis=1, ignore_index=True).drop([4], axis=1)\n",
    "power_df2 = power_df1.rename(columns={0: 'dimension', 1: 'sample_size', 2: 'shift', 3: 'test', 5: 'power'}).sort_values(by=['sample_size', 'shift', 'test'], axis=0)\n",
    "\n",
    "# 'shift' defines the lag\n",
    "dep_linear0 = power_df2[(power_df2['test']=='dependence_linear') & (power_df2['shift']==0)]\n",
    "dep_sine0 = power_df2[(power_df2['test']=='dependence_sine') & (power_df2['shift']==0)]\n",
    "indep0 = power_df2[(power_df2['test']=='independence') & (power_df2['shift']==0)]\n",
    "dep_cubic0 = power_df2[(power_df2['test']=='dependence_cubic') & (power_df2['shift']==0)]\n",
    "dep_quartic0 = power_df2[(power_df2['test']=='dependence_quartic') & (power_df2['shift']==0)]\n",
    "\n",
    "dep_linear1 = power_df2[(power_df2['test']=='dependence_linear') & (power_df2['shift']==1)]\n",
    "dep_sine1 = power_df2[(power_df2['test']=='dependence_sine') & (power_df2['shift']==1)]\n",
    "indep1 = power_df2[(power_df2['test']=='independence') & (power_df2['shift']==1)]\n",
    "dep_cubic1 = power_df2[(power_df2['test']=='dependence_cubic') & (power_df2['shift']==1)]\n",
    "dep_quartic1 = power_df2[(power_df2['test']=='dependence_quartic') & (power_df2['shift']==1)]\n",
    "\n",
    "dep_linear2 = power_df2[(power_df2['test']=='dependence_linear') & (power_df2['shift']==2)]\n",
    "dep_sine2 = power_df2[(power_df2['test']=='dependence_sine') & (power_df2['shift']==2)]\n",
    "indep2 = power_df2[(power_df2['test']=='independence') & (power_df2['shift']==2)]\n",
    "dep_cubic2 = power_df2[(power_df2['test']=='dependence_cubic') & (power_df2['shift']==2)]\n",
    "dep_quartic2 = power_df2[(power_df2['test']=='dependence_quartic') & (power_df2['shift']==2)]\n",
    "\n",
    "dep_linear3 = power_df2[(power_df2['test']=='dependence_linear') & (power_df2['shift']==3)]\n",
    "dep_sine3 = power_df2[(power_df2['test']=='dependence_sine') & (power_df2['shift']==3)]\n",
    "indep3 = power_df2[(power_df2['test']=='independence') & (power_df2['shift']==3)]\n",
    "dep_cubic3 = power_df2[(power_df2['test']=='dependence_cubic') & (power_df2['shift']==3)]\n",
    "dep_quartic3 = power_df2[(power_df2['test']=='dependence_quartic') & (power_df2['shift']==3)]"
   ]
  },
  {
   "cell_type": "markdown",
   "metadata": {},
   "source": [
    "# Type I error and test power\n",
    "\n",
    "- type I error: rejecting true $H_0$\n",
    "- type II error: not rejecting false $H_0$\n",
    "- $\\text{power} = 1 - \\text{type II error}$\n",
    "\n",
    "Based on 200 trials for each sample size."
   ]
  },
  {
   "cell_type": "code",
   "execution_count": null,
   "metadata": {
    "scrolled": false
   },
   "outputs": [],
   "source": [
    "# independence / type I error\n",
    "\n",
    "x0, y0 = indep0['sample_size'], indep0['power']\n",
    "x1, y1 = indep1['sample_size'], indep1['power']\n",
    "x2, y2 = indep2['sample_size'], indep2['power']\n",
    "x3, y3 = indep3['sample_size'], indep3['power']\n",
    "\n",
    "plt.figure(figsize=(12, 8))\n",
    "plt.xlabel('Sample size per dimension', size=16)\n",
    "plt.ylabel('type I error', size=16)\n",
    "plt.ylim(-1, 11)\n",
    "plt.hlines(y=5, xmin=16, xmax=128, colors='k', linestyles='dotted', label='Significance $\\alpha$')\n",
    "plt.title('{}, d = {}, {}'.format(indep0.test.unique()[0], dim, test__), size=16)\n",
    "plt.plot(x0, y0, 'b', x1, y1, 'g', x2, y2, 'r', x3, y3, 'm')\n",
    "plt.legend(['shift = 0', 'shift = 1', 'shift = 2', 'shift = 3', 'Significance'])\n",
    "plt.savefig('visuals/{}_{}_{}.png'.format(indep0.test.unique(), dim, test_))\n",
    "plt.show()"
   ]
  },
  {
   "cell_type": "code",
   "execution_count": null,
   "metadata": {
    "scrolled": false
   },
   "outputs": [],
   "source": [
    "# linear dependence / power\n",
    "\n",
    "x0, y0 = dep_linear0['sample_size'], dep_linear0['power']\n",
    "x1, y1 = dep_linear1['sample_size'], dep_linear1['power']\n",
    "x2, y2 = dep_linear2['sample_size'], dep_linear2['power']\n",
    "x3, y3 = dep_linear3['sample_size'], dep_linear3['power']\n",
    "\n",
    "plt.figure(figsize=(12, 8))\n",
    "plt.xlabel('Sample size per dimension', size=16)\n",
    "plt.ylabel('Test power', size=16)\n",
    "plt.ylim(-5, 105)\n",
    "plt.hlines(y=100, xmin=16, xmax=128, colors='k', linestyles='dotted')\n",
    "plt.title('{}, d = {}, {}'.format(dep_linear0.test.unique()[0], dim, test__), size=16)\n",
    "plt.plot(x0, y0, 'b', x1, y1, 'g', x2, y2, 'r', x3, y3, 'm')\n",
    "plt.legend(['shift = 0', 'shift = 1', 'shift = 2', 'shift = 3'])\n",
    "plt.savefig('visuals/{}_{}_{}.png'.format(dep_linear0.test.unique(), dim, test_))\n",
    "plt.show()"
   ]
  },
  {
   "cell_type": "code",
   "execution_count": null,
   "metadata": {},
   "outputs": [],
   "source": [
    "# sine dependence / power\n",
    "\n",
    "x0, y0 = dep_sine0['sample_size'], dep_sine0['power']\n",
    "x1, y1 = dep_sine1['sample_size'], dep_sine1['power']\n",
    "x2, y2 = dep_sine2['sample_size'], dep_sine2['power']\n",
    "x3, y3 = dep_sine3['sample_size'], dep_sine3['power']\n",
    "\n",
    "plt.figure(figsize=(12, 8))\n",
    "plt.xlabel('Sample size per dimension', size=16)\n",
    "plt.ylabel('Test power', size=16)\n",
    "plt.ylim(-5, 105)\n",
    "plt.hlines(y=100, xmin=16, xmax=128, colors='k', linestyles='dotted')\n",
    "plt.title('{}, d = {}, {}'.format(dep_sine0.test.unique()[0], dim, test__), size=16)\n",
    "plt.plot(x0, y0, 'b', x1, y1, 'g', x2, y2, 'r', x3, y3, 'm')\n",
    "plt.legend(['shift = 0', 'shift = 1', 'shift = 2', 'shift = 3'])\n",
    "plt.savefig('visuals/{}_{}_{}.png'.format(dep_sine0.test.unique(), dim, test_))\n",
    "plt.show()"
   ]
  },
  {
   "cell_type": "code",
   "execution_count": null,
   "metadata": {},
   "outputs": [],
   "source": [
    "# cubic dependence / power\n",
    "\n",
    "x0, y0 = dep_cubic0['sample_size'], dep_cubic0['power']\n",
    "x1, y1 = dep_cubic1['sample_size'], dep_cubic1['power']\n",
    "x2, y2 = dep_cubic2['sample_size'], dep_cubic2['power']\n",
    "x3, y3 = dep_cubic3['sample_size'], dep_cubic3['power']\n",
    "\n",
    "plt.figure(figsize=(12, 8))\n",
    "plt.xlabel('Sample size per dimension', size=16)\n",
    "plt.ylabel('Test power', size=16)\n",
    "plt.ylim(-5, 105)\n",
    "plt.hlines(y=100, xmin=16, xmax=128, colors='k', linestyles='dotted')\n",
    "plt.title('{}, d = {}, {}'.format(dep_cubic0.test.unique()[0], dim, test__), size=16)\n",
    "plt.plot(x0, y0, 'b', x1, y1, 'g', x2, y2, 'r', x3, y3, 'm')\n",
    "plt.legend(['shift = 0', 'shift = 1', 'shift = 2', 'shift = 3'])\n",
    "plt.savefig('visuals/{}_{}_{}.png'.format(dep_cubic0.test.unique(), dim, test_))\n",
    "plt.show()"
   ]
  },
  {
   "cell_type": "code",
   "execution_count": null,
   "metadata": {},
   "outputs": [],
   "source": [
    "# quartic dependence / power\n",
    "\n",
    "x0, y0 = dep_quartic0['sample_size'], dep_quartic0['power']\n",
    "x1, y1 = dep_quartic1['sample_size'], dep_quartic1['power']\n",
    "x2, y2 = dep_quartic2['sample_size'], dep_quartic2['power']\n",
    "x3, y3 = dep_quartic3['sample_size'], dep_quartic3['power']\n",
    "\n",
    "plt.figure(figsize=(12, 8))\n",
    "plt.xlabel('Sample size per dimension', size=16)\n",
    "plt.ylabel('Test power', size=16)\n",
    "plt.ylim(-5, 105)\n",
    "plt.hlines(y=100, xmin=16, xmax=128, colors='k', linestyles='dotted')\n",
    "plt.title('{}, d = {}, {}'.format(dep_quartic0.test.unique()[0], dim, test__), size=16)\n",
    "plt.plot(x0, y0, 'b', x1, y1, 'g', x2, y2, 'r', x3, y3, 'm')\n",
    "plt.legend(['shift = 0', 'shift = 1', 'shift = 2', 'shift = 3'])\n",
    "plt.savefig('visuals/{}_{}_{}.png'.format(dep_quartic0.test.unique(), dim, test_))\n",
    "plt.show()"
   ]
  },
  {
   "cell_type": "markdown",
   "metadata": {},
   "source": [
    "# MMD\n",
    "\n",
    "## Mean shift\n",
    "\n",
    "To check the statistical power, we take the 200 reputations for every configuration written in the keys and compute the probability of rejection, given the null hypothesis is false.\n",
    "\n",
    "$H_0: P_X = P_Y$\n",
    "\n",
    "$\\mathbb{E}[Y] = \\mathbb{E}[X] + \\delta \\ \\mathbb{E}[X^3]$"
   ]
  },
  {
   "cell_type": "code",
   "execution_count": null,
   "metadata": {},
   "outputs": [],
   "source": [
    "# define folder and file\n",
    "path = 'high_MMD_mean'\n",
    "test_ = 'g'  # 'p'\n",
    "test__ = 'Gamma' # 'permutation'\n",
    "dim = 25\n",
    "file = 'mean_shifts_{}_[{}]'.format(test_, dim)\n",
    "\n",
    "dict_results = pickle.load(open('{}/{}.pkl'.format(path, file), 'rb'))"
   ]
  },
  {
   "cell_type": "code",
   "execution_count": null,
   "metadata": {},
   "outputs": [],
   "source": [
    "# mean shift values delta\n",
    "deltas = np.concatenate([np.linspace(0, 0.2, 11), np.linspace(0.25, 4, 39)])\n",
    "plt.plot(range(len(deltas)), deltas);"
   ]
  },
  {
   "cell_type": "code",
   "execution_count": null,
   "metadata": {},
   "outputs": [],
   "source": [
    "power = {}\n",
    "rejections = {}\n",
    "\n",
    "for key in dict_results.keys():\n",
    "    #print(key)\n",
    "    rejections[key] = 0\n",
    "    for i in range(len(dict_results[key])):\n",
    "        if dict_results[key][i][0] > dict_results[key][i][1]:\n",
    "            rejections[key] += 1\n",
    "        else:\n",
    "            pass\n",
    "    # statistical power\n",
    "    power[key] = 100 * rejections[key] / len(dict_results[key])"
   ]
  },
  {
   "cell_type": "markdown",
   "metadata": {},
   "source": [
    "## Visualisations"
   ]
  },
  {
   "cell_type": "code",
   "execution_count": null,
   "metadata": {},
   "outputs": [],
   "source": [
    "power_df = pd.DataFrame.from_dict(data=power, orient='index').reset_index()\n",
    "power_df0 = power_df['index'].apply(pd.Series)\n",
    "power_df1 = pd.concat([power_df0, power_df], axis=1, ignore_index=True).drop([4], axis=1)\n",
    "power_df2 = power_df1.rename(columns={0: 'dimension', 1: 'sample_size', 2: 'delta', 3: 'shift', 5: 'power'}).sort_values(by=['sample_size', 'delta'], axis=0)"
   ]
  },
  {
   "cell_type": "code",
   "execution_count": null,
   "metadata": {},
   "outputs": [],
   "source": [
    "sample_64 = power_df2[power_df2['sample_size']==64]\n",
    "sample_128 = power_df2[power_df2['sample_size']==128]\n",
    "sample_256 = power_df2[power_df2['sample_size']==256]\n",
    "sample_512 = power_df2[power_df2['sample_size']==512]"
   ]
  },
  {
   "cell_type": "code",
   "execution_count": null,
   "metadata": {
    "scrolled": false
   },
   "outputs": [],
   "source": [
    "for test in [sample_64, sample_128, sample_256, sample_512]:\n",
    "    x, y = test['delta'], test['power']\n",
    "    plt.figure(figsize=(12, 8))\n",
    "    plt.xlabel('Mean shift $\\delta$', size=16)\n",
    "    plt.ylabel('Test power', size=16)\n",
    "    plt.ylim(0, 105)\n",
    "    plt.hlines(y=100, xmin=0, xmax=4, colors='k', linestyles='dotted')\n",
    "    plt.title('Mean shift: sample size = {}, dim = {}, {}'.format(int(test.sample_size.unique()[0]), dim, test__), size=16)\n",
    "    plt.plot(x, y)\n",
    "    plt.savefig('visuals/mean_{}_{}_{}.png'.format(test.sample_size.unique(), dim, test_))\n",
    "    plt.show()"
   ]
  },
  {
   "cell_type": "markdown",
   "metadata": {},
   "source": [
    "## Variance shift\n",
    "\n",
    "To check the statistical power, we take the 200 reputations for every configuration written in the keys and compute the probability of rejection, given the null hypothesis is false.\n",
    "\n",
    "$H_0: P_X = P_Y$\n",
    "\n",
    "$\\text{Var}[Y] = \\text{Var}[X] + \\gamma$"
   ]
  },
  {
   "cell_type": "code",
   "execution_count": null,
   "metadata": {},
   "outputs": [],
   "source": [
    "# define folder and file\n",
    "path = 'high_MMD_var'\n",
    "test_ = 'g'  # 'g'\n",
    "test__ = 'Gamma' # 'permutation' \n",
    "dim = 25\n",
    "file = 'var_shifts_{}_[{}]'.format(test_, dim)\n",
    "\n",
    "dict_results = pickle.load(open('{}/{}.pkl'.format(path, file), 'rb'))"
   ]
  },
  {
   "cell_type": "code",
   "execution_count": null,
   "metadata": {},
   "outputs": [],
   "source": [
    "# variance shift values gamma\n",
    "gams = np.concatenate([np.linspace(0, 0.005, 11), np.linspace(0.008, 1, 39)])\n",
    "plt.plot(range(len(gams)), gams);"
   ]
  },
  {
   "cell_type": "code",
   "execution_count": null,
   "metadata": {},
   "outputs": [],
   "source": [
    "power = {}\n",
    "rejections = {}\n",
    "\n",
    "for key in dict_results.keys():\n",
    "    #print(key)\n",
    "    rejections[key] = 0\n",
    "    for i in range(len(dict_results[key])):\n",
    "        if dict_results[key][i][0] > dict_results[key][i][1]:\n",
    "            rejections[key] += 1\n",
    "        else:\n",
    "            pass\n",
    "    # statistical power\n",
    "    power[key] = 100 * rejections[key] / len(dict_results[key])"
   ]
  },
  {
   "cell_type": "markdown",
   "metadata": {},
   "source": [
    "## Visualisations"
   ]
  },
  {
   "cell_type": "code",
   "execution_count": null,
   "metadata": {},
   "outputs": [],
   "source": [
    "power_df = pd.DataFrame.from_dict(data=power, orient='index').reset_index()\n",
    "power_df0 = power_df['index'].apply(pd.Series)\n",
    "power_df1 = pd.concat([power_df0, power_df], axis=1, ignore_index=True).drop([4], axis=1)\n",
    "power_df2 = power_df1.rename(columns={0: 'dimension', 1: 'sample_size', 2: 'gamma', 3: 'shift', 5: 'power'}).sort_values(by=['sample_size', 'gamma'], axis=0)"
   ]
  },
  {
   "cell_type": "code",
   "execution_count": null,
   "metadata": {},
   "outputs": [],
   "source": [
    "sample_64 = power_df2[power_df2['sample_size']==64]\n",
    "sample_128 = power_df2[power_df2['sample_size']==128]\n",
    "sample_256 = power_df2[power_df2['sample_size']==256]\n",
    "sample_512 = power_df2[power_df2['sample_size']==512]"
   ]
  },
  {
   "cell_type": "code",
   "execution_count": null,
   "metadata": {
    "scrolled": false
   },
   "outputs": [],
   "source": [
    "for test in [sample_64, sample_128, sample_256, sample_512]:\n",
    "    x, y = test['gamma'], test['power']\n",
    "    plt.figure(figsize=(12, 8))\n",
    "    plt.xlabel('Variance shift $\\gamma$', size=16)\n",
    "    plt.ylabel('Test power', size=16)\n",
    "    plt.ylim(0, 105)\n",
    "    plt.hlines(y=100, xmin=0, xmax=1, colors='k', linestyles='dotted')\n",
    "    plt.title('Variance shift: sample size = {}, dim = {}, {}'.format(int(test.sample_size.unique()[0]), dim, test__), size=16)\n",
    "    plt.plot(x, y)\n",
    "    plt.savefig('visuals/var_{}_{}_{}.png'.format(test.sample_size.unique(), dim, test_))\n",
    "    plt.show()"
   ]
  },
  {
   "cell_type": "code",
   "execution_count": null,
   "metadata": {},
   "outputs": [],
   "source": []
  }
 ],
 "metadata": {
  "kernelspec": {
   "display_name": "Python 3.5",
   "language": "python",
   "name": "python3"
  },
  "language_info": {
   "codemirror_mode": {
    "name": "ipython",
    "version": 3
   },
   "file_extension": ".py",
   "mimetype": "text/x-python",
   "name": "python",
   "nbconvert_exporter": "python",
   "pygments_lexer": "ipython3",
   "version": "3.5.6"
  }
 },
 "nbformat": 4,
 "nbformat_minor": 2
}
