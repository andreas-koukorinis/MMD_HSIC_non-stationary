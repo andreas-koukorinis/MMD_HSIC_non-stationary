{
 "cells": [
  {
   "cell_type": "markdown",
   "metadata": {},
   "source": [
    "# High-dimensional HSIC"
   ]
  },
  {
   "cell_type": "code",
   "execution_count": null,
   "metadata": {},
   "outputs": [],
   "source": [
    "import numpy as np\n",
    "import matplotlib.pyplot as plt\n",
    "from scipy.stats import gamma\n",
    "import pickle"
   ]
  },
  {
   "cell_type": "markdown",
   "metadata": {},
   "source": [
    "Different combinations of $(X, Y)$ to evaluate the approximation methods.\n",
    "\n",
    "## Examples of one to three-dimensional distributions"
   ]
  },
  {
   "cell_type": "code",
   "execution_count": null,
   "metadata": {},
   "outputs": [],
   "source": [
    "#X = np.random.normal(0, 1, 256).reshape(-1,1)\n",
    "#X = np.random.exponential(size=100).reshape(-1,1)\n",
    "#X = np.random.chisquare(1, size=20).reshape(-1,1)\n",
    "X = np.random.multivariate_normal([0,1,2], [[1,1,1], [1,1,1], [1,1,1]], size=1024)\n",
    "#X = np.random.randn(20*128).reshape(20,-1)\n",
    "\n",
    "\n",
    "#Y = np.random.normal(0, 1, 64).reshape(-1,1)\n",
    "#Y = np.random.exponential(size=256).reshape(-1,1)\n",
    "#Y = np.random.randn(20*128).reshape(20,-1)\n",
    "Y = np.random.multivariate_normal([10,11,12], [[11,11,11], [11,11,11], [11,11,11]], size=1024)"
   ]
  },
  {
   "cell_type": "code",
   "execution_count": null,
   "metadata": {},
   "outputs": [],
   "source": [
    "print(X.shape)\n",
    "print(Y.shape)"
   ]
  },
  {
   "cell_type": "markdown",
   "metadata": {},
   "source": [
    "## Examples of higher-dimensional distributions"
   ]
  },
  {
   "cell_type": "code",
   "execution_count": null,
   "metadata": {},
   "outputs": [],
   "source": [
    "# dimensions\n",
    "dim = 25\n",
    "\n",
    "# how many samples\n",
    "sample_size = 256\n",
    "\n",
    "# random seed\n",
    "i = 1\n",
    "\n",
    "# set how far to shift Y (+ shifts to the left, - shifts to the right)\n",
    "shift_par = 0   \n",
    "\n",
    "print('Shifting for:', shift_par)"
   ]
  },
  {
   "cell_type": "code",
   "execution_count": null,
   "metadata": {
    "scrolled": false
   },
   "outputs": [],
   "source": [
    "time1 = np.random.uniform(-2, 2, dim)\n",
    "print(time1)\n",
    "plt.figure(figsize=(16,10))\n",
    "plt.plot(time1, 'xr', markersize=16);"
   ]
  },
  {
   "cell_type": "code",
   "execution_count": null,
   "metadata": {},
   "outputs": [],
   "source": [
    "# mean independence\n",
    "time2 = np.random.uniform(-2, 2, dim)\n",
    "\n",
    "print(time2)\n",
    "plt.figure(figsize=(16,10))\n",
    "plt.plot(time2, 'xr', markersize=16);"
   ]
  },
  {
   "cell_type": "markdown",
   "metadata": {},
   "source": [
    "# Generating high-dimensional distributions\n",
    "\n",
    "### Generating process for mean dependence"
   ]
  },
  {
   "cell_type": "code",
   "execution_count": null,
   "metadata": {},
   "outputs": [],
   "source": [
    "# generating distributions over time for dependent and independent variables\n",
    "def gen_dependence(time1, time2, test='independence', s=i, sample_size=sample_size):\n",
    "    \n",
    "    t1d = np.empty((0, sample_size))\n",
    "    t2d = np.empty((0, sample_size))\n",
    "    \n",
    "    # Y = 7*X + N(0,I)\n",
    "    if test=='dependence_linear':\n",
    "        for t in time1:\n",
    "            dist1 = np.random.normal(0, 1, sample_size)            \n",
    "            t1d = np.append(t1d, [dist1], axis=0)\n",
    "\n",
    "            dist2 = 7*dist1 + np.random.normal(0, 1, sample_size)\n",
    "            t2d = np.append(t2d, [dist2], axis=0)\n",
    "\n",
    "    \n",
    "    # Y = sin(X) + N(0,I)\n",
    "    elif test=='dependence_sine':\n",
    "        for t in time1:\n",
    "            dist1 = np.random.normal(0, 1, sample_size)\n",
    "            t1d = np.append(t1d, [dist1], axis=0)\n",
    "\n",
    "            dist2 = 20*np.sin(4*np.pi*dist1) + np.random.normal(0, 1, sample_size)\n",
    "            t2d = np.append(t2d, [dist2], axis=0)\n",
    "    \n",
    "    # Y = 5*X^3 + N(0,I)\n",
    "    elif test=='dependence_cubic':\n",
    "        for t in time1:\n",
    "            dist1 = np.random.normal(0, 1, sample_size)\n",
    "            t1d = np.append(t1d, [dist1], axis=0)\n",
    "            \n",
    "            dist2 = 5*dist1**3 + np.random.normal(0, 1, sample_size)\n",
    "            t2d = np.append(t2d, [dist2], axis=0)\n",
    "    \n",
    "    # Y = 13*X^4 + N(0,I)\n",
    "    elif test=='dependence_quartic':\n",
    "        for t in time1:\n",
    "            dist1 = np.random.normal(0, 1, sample_size)\n",
    "            t1d = np.append(t1d, [dist1], axis=0)\n",
    "            \n",
    "            dist2 = 13*dist1**4 + np.random.normal(0, 1, sample_size)\n",
    "            t2d = np.append(t2d, [dist2], axis=0)\n",
    "        \n",
    "    \n",
    "    elif test=='independence':  \n",
    "        for t in time1:\n",
    "            dist1 = np.random.normal(0, 1, sample_size)\n",
    "            t1d = np.append(t1d, [dist1], axis=0)\n",
    "        \n",
    "        for t in time2:\n",
    "            dist2 = np.random.normal(0, 1, sample_size)\n",
    "            t2d = np.append(t2d, [dist2], axis=0)\n",
    "    \n",
    "    # shifting time2\n",
    "    if shift_par >= 0:\n",
    "        t2d = t2d[shift_par:]\n",
    "    elif shift_par < 0:\n",
    "        t2d = t2d[:shift_par]\n",
    "\n",
    "    time1d = t1d.T\n",
    "    time2d = t2d.T\n",
    "    \n",
    "    return time1d, time2d"
   ]
  },
  {
   "cell_type": "code",
   "execution_count": null,
   "metadata": {},
   "outputs": [],
   "source": [
    "time1 = np.linspace(0, 11, 12)\n",
    "time2 = np.linspace(0, 11, 12)\n",
    "time1d, time2d = gen_dependence(time1, time2, test='independence', s=1, sample_size=sample_size, dist='beta')"
   ]
  },
  {
   "cell_type": "markdown",
   "metadata": {},
   "source": [
    "### Plottings"
   ]
  },
  {
   "cell_type": "code",
   "execution_count": null,
   "metadata": {},
   "outputs": [],
   "source": [
    "# different dimensions\n",
    "print(time1d.shape)\n",
    "plt.figure(figsize=(16,10))\n",
    "plt.axis([-1, time1d.shape[1], -4, 4])\n",
    "plt.plot(time1d.T);\n",
    "plt.show()"
   ]
  },
  {
   "cell_type": "code",
   "execution_count": null,
   "metadata": {},
   "outputs": [],
   "source": [
    "print(time2d.shape)\n",
    "plt.figure(figsize=(16,10))\n",
    "plt.axis([-1, time2d.shape[1], -4, 4])\n",
    "plt.plot(time2d.T);\n",
    "plt.show()"
   ]
  },
  {
   "cell_type": "code",
   "execution_count": null,
   "metadata": {},
   "outputs": [],
   "source": [
    "# same dimensions\n",
    "if shift_par > 0:\n",
    "    X = time1d[:, :-shift_par]\n",
    "    Y = time2d\n",
    "elif shift_par < 0:\n",
    "    X = time1d[:, -shift_par:]\n",
    "    Y = time2d\n",
    "else:\n",
    "    X = time1d\n",
    "    Y = time2d"
   ]
  },
  {
   "cell_type": "code",
   "execution_count": null,
   "metadata": {
    "scrolled": false
   },
   "outputs": [],
   "source": [
    "print(X.shape)\n",
    "plt.figure(figsize=(16,10))\n",
    "plt.axis([-1, X.shape[1], -4, 4])\n",
    "plt.plot(X.T);\n",
    "plt.show()"
   ]
  },
  {
   "cell_type": "code",
   "execution_count": null,
   "metadata": {
    "scrolled": false
   },
   "outputs": [],
   "source": [
    "print(Y.shape)\n",
    "plt.figure(figsize=(16,10))\n",
    "plt.axis([-1, Y.shape[1], -4, 4])\n",
    "plt.plot(Y.T);\n",
    "plt.show()"
   ]
  },
  {
   "cell_type": "markdown",
   "metadata": {},
   "source": [
    "Show their dependence:"
   ]
  },
  {
   "cell_type": "code",
   "execution_count": null,
   "metadata": {
    "scrolled": true
   },
   "outputs": [],
   "source": [
    "plt.scatter(X, Y);"
   ]
  },
  {
   "cell_type": "markdown",
   "metadata": {},
   "source": [
    "### Auxiliary functions"
   ]
  },
  {
   "cell_type": "code",
   "execution_count": null,
   "metadata": {},
   "outputs": [],
   "source": [
    "# median heuristic for kernel width\n",
    "def width(Z):\n",
    "    # compute median for Z\n",
    "    size_Z = Z.shape[0]\n",
    "    if size_Z > 100:\n",
    "        Z_med = Z[0:100]\n",
    "        size_Z = 100\n",
    "    else:\n",
    "        Z_med = Z\n",
    "\n",
    "    G_Z = np.sum(np.multiply(Z_med, Z_med), axis=1).reshape(-1,1)\n",
    "    Q_Z = np.tile(G_Z, (1, size_Z))\n",
    "    R_Z = np.tile(G_Z.T, (size_Z, 1))\n",
    "    dists_Z = Q_Z + R_Z - 2 * Z_med @ Z_med.T\n",
    "    distances_Z = (dists_Z - np.tril(dists_Z)).reshape(-1, 1)\n",
    "    width_Z = np.sqrt(0.5*np.median(distances_Z[distances_Z>0]))\n",
    "    d_Z = Z.shape[1]\n",
    "    \n",
    "    return d_Z * width_Z\n",
    "\n",
    "\n",
    "# rbf dot product\n",
    "def rbf_dot(X, Y, width):\n",
    "    size_X = X.shape\n",
    "    size_Y = Y.shape\n",
    "    \n",
    "    G = np.sum(np.multiply(X, X), axis=1).reshape(-1,1)\n",
    "    H = np.sum(np.multiply(Y, Y), axis=1).reshape(-1,1)\n",
    "    \n",
    "    Q = np.tile(G, (1, size_Y[0]))\n",
    "    R = np.tile(H.T, (size_X[0], 1))\n",
    "    \n",
    "    H = Q + R - 2 * X @ Y.T\n",
    "    \n",
    "    # rbf kernel\n",
    "    K = np.exp(-H/(2*width**2))\n",
    "    \n",
    "    return K"
   ]
  },
  {
   "cell_type": "markdown",
   "metadata": {},
   "source": [
    "# HSIC\n",
    "\n",
    "$\\mathcal{H}_0: P_{XY} = P_X P_Y$ is a complex distribution and must be approximated. Here, we approximate it first by randomly permuting the order of $Y$ whilst the order of $X$ is kept fixed, and second by a Gamma distribution with parameters $\\alpha$ (`al`) and $\\beta$ (`bet`)."
   ]
  },
  {
   "cell_type": "markdown",
   "metadata": {},
   "source": [
    "## HSIC with permutations"
   ]
  },
  {
   "cell_type": "code",
   "execution_count": null,
   "metadata": {},
   "outputs": [],
   "source": [
    "def HSIC_permutations(X, Y, alpha, width_X, width_Y, shuffle):    # set widths to -1 for median heuristics\n",
    "    \n",
    "    m = X.shape[0]\n",
    "    \n",
    "    # median heuristics for kernel width\n",
    "    if width_X == -1:\n",
    "        width_X = width(X)      \n",
    "    if width_Y == -1:\n",
    "        width_Y = width(Y)\n",
    "    \n",
    "    # compute Gram matrices\n",
    "    K = rbf_dot(X, X, width_X)\n",
    "    L = rbf_dot(Y, Y, width_Y)\n",
    "    \n",
    "    # centering matrix...\n",
    "    H = np.eye(m) - (1/m) * (np.ones((m, m)))\n",
    "    \n",
    "    # ...to center K\n",
    "    K_c = H @ K @ H\n",
    "    \n",
    "    # test statistic\n",
    "    stat = 1/(m**2) * np.sum(np.multiply(K_c.T, L))\n",
    "    \n",
    "    # initiating HSIC\n",
    "    HSIC_arr = np.zeros(shuffle)\n",
    "    \n",
    "    # create permutations by reshuffling L except the main diagonal\n",
    "    for sh in range(shuffle):       \n",
    "        index_perm = np.random.permutation(L.shape[0])\n",
    "        L_perm = L[np.ix_(index_perm, index_perm)]\n",
    "        HSIC_arr[sh] = 1/(m**2) * np.sum(np.multiply(K_c.T, L_perm))\n",
    "        \n",
    "    HSIC_arr_sort = np.sort(HSIC_arr)\n",
    "    \n",
    "    # computing 1-alpha threshold\n",
    "    threshold = HSIC_arr_sort[round((1-alpha)*shuffle)]\n",
    "    \n",
    "    \"\"\"\n",
    "    if stat > threshold:\n",
    "        print('H0 rejected')\n",
    "    else:\n",
    "        print('H0 accepted')\n",
    "    \"\"\"\n",
    "    \n",
    "    return stat, threshold"
   ]
  },
  {
   "cell_type": "markdown",
   "metadata": {},
   "source": [
    "## HSIC with Gamma distribution approximation"
   ]
  },
  {
   "cell_type": "code",
   "execution_count": null,
   "metadata": {},
   "outputs": [],
   "source": [
    "def HSIC_gamma(X, Y, alpha, width_X, width_Y):    # set widths to -1 for median heuristics\n",
    "    \n",
    "    m = X.shape[0]\n",
    "    \n",
    "    # median heuristics for kernel width\n",
    "    if width_X == -1:\n",
    "        width_X = width(X)      \n",
    "    if width_Y == -1:\n",
    "        width_Y = width(Y)\n",
    "    \n",
    "    # compute Gram matrices\n",
    "    K = rbf_dot(X, X, width_X)\n",
    "    L = rbf_dot(Y, Y, width_Y)\n",
    "    \n",
    "    # centering matrix...\n",
    "    H = np.eye(m) - (1/m) * (np.ones((m, m)))\n",
    "    \n",
    "    # ...to center K and L\n",
    "    K_c = H @ K @ H\n",
    "    L_c = H @ L @ H\n",
    "    \n",
    "    # test statistic\n",
    "    stat = 1/m * np.sum(np.multiply(K_c.T, L))\n",
    "    \n",
    "    # fitting Gamma distribution to stat\n",
    "    vHSIC = np.power(1/6 * np.multiply(K_c, L_c), 2)\n",
    "    vaHSIC = 1/(m*(m-1)) * (np.sum(vHSIC) - np.trace(vHSIC))\n",
    "    varHSIC = 72*(m-4)*(m-5)/(m*(m-1)*(m-2)*(m-3)) * vaHSIC    # variance under H0\n",
    "        \n",
    "    K_diag = K - np.diag(np.diag(K))\n",
    "    L_diag = L - np.diag(np.diag(L))\n",
    "    \n",
    "    bone = np.ones(m)\n",
    "    \n",
    "    mu_X = 1/(m*(m-1)) * bone @ (K @ bone)\n",
    "    mu_Y = 1/(m*(m-1)) * bone @ (L @ bone)\n",
    "    \n",
    "    mHSIC = 1/m * (1 + mu_X * mu_Y - mu_X - mu_Y)    # mean under H0\n",
    "    \n",
    "    al = mHSIC**2 / varHSIC\n",
    "    bet = varHSIC * m / mHSIC\n",
    "    \n",
    "    # computing 1-alpha threshold\n",
    "    threshold = gamma.ppf(1-alpha, al, scale=bet)\n",
    "    \n",
    "    \"\"\"\n",
    "    if stat > threshold:\n",
    "        print('H0 rejected')\n",
    "    else:\n",
    "        print('H0 accepted')\n",
    "    \"\"\"\n",
    "    \n",
    "    return stat, threshold"
   ]
  },
  {
   "cell_type": "markdown",
   "metadata": {},
   "source": [
    "### Evaluations"
   ]
  },
  {
   "cell_type": "code",
   "execution_count": null,
   "metadata": {
    "scrolled": false
   },
   "outputs": [],
   "source": [
    "# test level alpha = 0.05, 5000 permutations\n",
    "HSIC_permutations(X, Y, 0.05, -1, -1, 5000)"
   ]
  },
  {
   "cell_type": "code",
   "execution_count": null,
   "metadata": {
    "scrolled": true
   },
   "outputs": [],
   "source": [
    "# test level alpha = 0.05\n",
    "HSIC_gamma(X, Y, 0.05, -1, -1)"
   ]
  },
  {
   "cell_type": "markdown",
   "metadata": {},
   "source": [
    "## Power estimation\n",
    "\n",
    "We estimate the statistical power based on 1000 replications for each setting. Our experiment settings compose of various dimensions, sample sizes, mean dependencies, and variance dependencies."
   ]
  },
  {
   "cell_type": "code",
   "execution_count": null,
   "metadata": {},
   "outputs": [],
   "source": [
    "# dimensions\n",
    "dims = [1, 5, 10, 25]\n",
    "\n",
    "# sample sizes\n",
    "sample_sizes = list(np.concatenate((4 * np.linspace(4, 16, 13), 4 * np.linspace(18, 32, 8))))\n",
    "\n",
    "# shifting process Y against X\n",
    "shift_pars = [0, 1, 2, 3]\n",
    "\n",
    "# possible tests\n",
    "tests = ['independence', 'dependence_linear', 'dependence_sine', 'dependence_cubic', 'dependence_quartic']"
   ]
  },
  {
   "cell_type": "markdown",
   "metadata": {},
   "source": [
    "### Power estimation for dependence"
   ]
  },
  {
   "cell_type": "code",
   "execution_count": null,
   "metadata": {
    "scrolled": true
   },
   "outputs": [],
   "source": [
    "HSIC_p_m = {}\n",
    "HSIC_g_m = {}\n",
    "\n",
    "for dim in dims:\n",
    "    print('Dimensions:', dim)\n",
    "    for sample_size in sample_sizes:\n",
    "        print('Sample size:', int(sample_size))\n",
    "        for shift_par in shift_pars:\n",
    "            print('Shift:', shift_par)\n",
    "            for test in tests:\n",
    "        \n",
    "                HSIC_p_m_list = []\n",
    "                HSIC_g_m_list = []\n",
    "\n",
    "                # repeating 200 times\n",
    "                for i in range(200):\n",
    "\n",
    "                    # defining time scales\n",
    "                    time1 = np.linspace(0, dim-1, dim)\n",
    "                    time2 = np.linspace(0, dim-1, dim)\n",
    "\n",
    "                    # defining dependencies\n",
    "                    time1d, time2d = gen_dependence(time1, time2, test=test, s=i, sample_size=int(sample_size))    \n",
    "                    \n",
    "                    # bringing X and Y in same space\n",
    "                    if shift_par > 0:\n",
    "                        X = time1d[:, :-shift_par]\n",
    "                        Y = time2d\n",
    "                    elif shift_par < 0:\n",
    "                        X = time1d[:, -shift_par:]\n",
    "                        Y = time2d\n",
    "                    else:\n",
    "                        X = time1d\n",
    "                        Y = time2d\n",
    "\n",
    "                    # test level alpha = 0.05, 5000 permutations\n",
    "                    HSIC_p_m_list.append(HSIC_permutations(X, Y, 0.05, -1, -1, 5000))\n",
    "\n",
    "                    # test level alpha = 0.05\n",
    "                    HSIC_g_m_list.append(HSIC_gamma(X, Y, 0.05, -1, -1))\n",
    "\n",
    "                HSIC_p_m[(dim, int(sample_size), shift_par, test)] = HSIC_p_m_list\n",
    "                HSIC_g_m[(dim, int(sample_size), shift_par, test)] = HSIC_g_m_list"
   ]
  },
  {
   "cell_type": "code",
   "execution_count": null,
   "metadata": {},
   "outputs": [],
   "source": [
    "# saving\n",
    "dependence_p = open('dependencies_p_{}.pkl'.format(dims), 'wb')\n",
    "pickle.dump(HSIC_p_m, dependence_p)\n",
    "dependence_p.close()\n",
    "\n",
    "dependence_g = open('dependencies_g_{}.pkl'.format(dims), 'wb')\n",
    "pickle.dump(HSIC_g_m, dependence_g)\n",
    "dependence_g.close()"
   ]
  }
 ],
 "metadata": {
  "kernelspec": {
   "display_name": "Python 3.5",
   "language": "python",
   "name": "python3"
  },
  "language_info": {
   "codemirror_mode": {
    "name": "ipython",
    "version": 3
   },
   "file_extension": ".py",
   "mimetype": "text/x-python",
   "name": "python",
   "nbconvert_exporter": "python",
   "pygments_lexer": "ipython3",
   "version": "3.5.6"
  }
 },
 "nbformat": 4,
 "nbformat_minor": 2
}
