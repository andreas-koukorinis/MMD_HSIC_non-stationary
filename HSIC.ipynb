{
 "cells": [
  {
   "cell_type": "markdown",
   "metadata": {},
   "source": [
    "# Collection of different norms in reproducing kernel Hilbert spaces (RKHS)"
   ]
  },
  {
   "cell_type": "code",
   "execution_count": 1,
   "metadata": {},
   "outputs": [],
   "source": [
    "import numpy as np\n",
    "import matplotlib.pyplot as plt\n",
    "import sklearn.metrics as metrics\n",
    "import math\n",
    "from scipy.stats import gamma\n",
    "import random"
   ]
  },
  {
   "cell_type": "markdown",
   "metadata": {},
   "source": [
    "Different combinations of $(X, Y)$ to evaluate the approximation methods"
   ]
  },
  {
   "cell_type": "code",
   "execution_count": 14,
   "metadata": {},
   "outputs": [],
   "source": [
    "#X = np.random.normal(2, 1, 64).reshape(-1,1)\n",
    "#X = np.random.exponential(size=100).reshape(-1,1)\n",
    "#X = np.random.chisquare(1, size=20).reshape(-1,1)\n",
    "#X = np.random.multivariate_normal([0,1,2], [[1,1,1], [1,1,1], [1,1,1]], size=128)\n",
    "X = np.random.randn(20*128).reshape(20,-1)\n",
    "\n",
    "\n",
    "#Y = np.random.exponential(size=64).reshape(-1,1)\n",
    "Y = np.random.randn(20*128).reshape(20,-1)\n",
    "#Y = X**3 #+ np.random.multivariate_normal([10,11,12], [[10,10,10], [10,10,10], [10,10,10]], size=128)"
   ]
  },
  {
   "cell_type": "code",
   "execution_count": null,
   "metadata": {},
   "outputs": [],
   "source": [
    "plt.hist(X, bins=1000);"
   ]
  },
  {
   "cell_type": "code",
   "execution_count": null,
   "metadata": {},
   "outputs": [],
   "source": [
    "plt.hist(Y, bins=1000);"
   ]
  },
  {
   "cell_type": "markdown",
   "metadata": {},
   "source": [
    "Show quickly some distribution characteristics:"
   ]
  },
  {
   "cell_type": "code",
   "execution_count": 15,
   "metadata": {
    "scrolled": true
   },
   "outputs": [
    {
     "name": "stdout",
     "output_type": "stream",
     "text": [
      "X:\n",
      "-0.013425514430122016\n",
      "1.0142875773383466\n",
      "-----------------------\n",
      "Y:\n",
      "-0.0034173089032113802\n",
      "0.9970025596721123\n"
     ]
    }
   ],
   "source": [
    "print('X:')\n",
    "print(X.mean())\n",
    "print(X.std())\n",
    "print('-----------------------')\n",
    "print('Y:')\n",
    "print(Y.mean())\n",
    "print(Y.std())"
   ]
  },
  {
   "cell_type": "markdown",
   "metadata": {},
   "source": [
    "Show their dependence:"
   ]
  },
  {
   "cell_type": "code",
   "execution_count": 16,
   "metadata": {},
   "outputs": [
    {
     "data": {
      "image/png": "[encoded data removed]",
      "text/plain": [
       "<Figure size 432x288 with 1 Axes>"
      ]
     },
     "metadata": {
      "needs_background": "light"
     },
     "output_type": "display_data"
    }
   ],
   "source": [
    "plt.scatter(X, Y);"
   ]
  },
  {
   "cell_type": "markdown",
   "metadata": {},
   "source": [
    "### Auxiliary functions"
   ]
  },
  {
   "cell_type": "code",
   "execution_count": 39,
   "metadata": {},
   "outputs": [],
   "source": [
    "# median heuristic for kernel width\n",
    "def width(Z):\n",
    "    # compute median for Z\n",
    "    size_Z = Z.shape[0]\n",
    "    if size_Z > 100:\n",
    "        Z_med = Z[0:100]\n",
    "        size_Z = 100\n",
    "    else:\n",
    "        Z_med = Z\n",
    "\n",
    "    G_Z = np.sum(np.multiply(Z_med, Z_med), axis=1).reshape(-1,1)\n",
    "    Q_Z = np.tile(G_Z, (1, size_Z))\n",
    "    R_Z = np.tile(G_Z.T, (size_Z, 1))\n",
    "    dists_Z = Q_Z + R_Z - 2 * Z_med @ Z_med.T\n",
    "    distances_Z = (dists_Z - np.tril(dists_Z)).reshape(-1, 1)\n",
    "    width_Z = np.sqrt(0.5*np.median(distances_Z[distances_Z>0]))\n",
    "    d_Z = Z.shape[1]\n",
    "    \n",
    "    return d_Z * width_Z\n",
    "\n",
    "\n",
    "# rbf dot product\n",
    "def rbf_dot(X, Y, width):\n",
    "    size_X = X.shape\n",
    "    size_Y = Y.shape\n",
    "    \n",
    "    G = np.sum(np.multiply(X, X), axis=1).reshape(-1,1)\n",
    "    H = np.sum(np.multiply(Y, Y), axis=1).reshape(-1,1)\n",
    "    \n",
    "    Q = np.tile(G, (1, size_Y[0]))\n",
    "    R = np.tile(H.T, (size_X[0], 1))\n",
    "    \n",
    "    H = Q + R - 2 * X @ Y.T\n",
    "    \n",
    "    # rbf kernel\n",
    "    K = np.exp(-H/(2*width**2))\n",
    "    \n",
    "    return K"
   ]
  },
  {
   "cell_type": "markdown",
   "metadata": {},
   "source": [
    "# Biased MMD\n",
    "\n",
    "First, we compute the biased MMD to have a measure how different the two distributions $P_X$ and $P_Y$ are in the RKHS."
   ]
  },
  {
   "cell_type": "code",
   "execution_count": 40,
   "metadata": {},
   "outputs": [],
   "source": [
    "# biased MMD estimator\n",
    "def MMD_b(X, Y, width_X, width_Y):\n",
    "    \n",
    "    m = X.shape[0]\n",
    "    \n",
    "    # median heuristics for kernel width\n",
    "    if width_X == -1:\n",
    "        width_X = width(X)      \n",
    "    if width_Y == -1:\n",
    "        width_Y = width(Y)\n",
    "    \n",
    "    K = rbf_dot(X, X, width_X)\n",
    "    L = rbf_dot(Y, Y, width_Y)\n",
    "    \n",
    "    # centering matrix\n",
    "    H = np.eye(m) - (1/m) * (np.ones((m, m)))\n",
    "    \n",
    "    return (1/m**2) * np.trace(K @ H @ L @ H)"
   ]
  },
  {
   "cell_type": "code",
   "execution_count": 41,
   "metadata": {},
   "outputs": [
    {
     "data": {
      "text/plain": [
       "1.775419288158862e-10"
      ]
     },
     "execution_count": 41,
     "metadata": {},
     "output_type": "execute_result"
    }
   ],
   "source": [
    "MMD_b(X, Y, width_X=-1, width_Y=-1)"
   ]
  },
  {
   "cell_type": "markdown",
   "metadata": {},
   "source": [
    "# Unbiased MMD\n",
    "Next, we compute the MMD with bias correction."
   ]
  },
  {
   "cell_type": "code",
   "execution_count": 42,
   "metadata": {},
   "outputs": [],
   "source": [
    "# unbiased MMD estimator\n",
    "def MMD_u(X, Y, width_X, width_Y, width_XY):\n",
    "    m = X.shape[0]\n",
    "    \n",
    "    # median heuristics for kernel width\n",
    "    if width_X == -1:\n",
    "        width_X = width(X)      \n",
    "    if width_Y == -1:\n",
    "        width_Y = width(Y)\n",
    "    if width_XY == -1:\n",
    "        width_XY = width(np.concatenate([X, Y]))\n",
    "    \n",
    "    K = rbf_dot(X, X, width_X)\n",
    "    L = rbf_dot(Y, Y, width_Y)\n",
    "    KL = rbf_dot(X, Y, width_XY)\n",
    "    \n",
    "    # centering matrix\n",
    "    H = np.eye(m) - (1/m) * (np.ones((m, m)))\n",
    "    \n",
    "    return np.sqrt(1/(m*(m-1)) * (np.sum(K) + np.sum(L) - 2 * np.sum(KL)))"
   ]
  },
  {
   "cell_type": "code",
   "execution_count": 43,
   "metadata": {},
   "outputs": [
    {
     "data": {
      "text/plain": [
       "0.0025646379550416055"
      ]
     },
     "execution_count": 43,
     "metadata": {},
     "output_type": "execute_result"
    }
   ],
   "source": [
    "MMD_u(X, Y, -1, -1, -1)"
   ]
  },
  {
   "cell_type": "markdown",
   "metadata": {},
   "source": [
    "# HSIC\n",
    "\n",
    "$\\mathcal{H}_0 : P_{XY} = P_X P_Y$ is a complex distribution and must be approximated. Here, we approximate it first by randomly permuting the order of $Y$ whilst the order of $X$ is kept fixed, and second by a Gamma distribution with parameters $\\alpha$ (`al`) and $\\beta$ (`bet`)."
   ]
  },
  {
   "cell_type": "markdown",
   "metadata": {},
   "source": [
    "## HSIC with permutations"
   ]
  },
  {
   "cell_type": "code",
   "execution_count": 44,
   "metadata": {},
   "outputs": [],
   "source": [
    "def HSIC_permutations(X, Y, alpha, width_X, width_Y, shuffle):    # set widths to -1 for median heuristics\n",
    "    \n",
    "    m = X.shape[0]\n",
    "    \n",
    "    # median heuristics for kernel width\n",
    "    if width_X == -1:\n",
    "        width_X = width(X)      \n",
    "    if width_Y == -1:\n",
    "        width_Y = width(Y)\n",
    "    \n",
    "    # compute Gram matrices\n",
    "    K = rbf_dot(X, X, width_X)\n",
    "    L = rbf_dot(Y, Y, width_Y)\n",
    "    \n",
    "    # centering matrix...\n",
    "    H = np.eye(m) - (1/m) * (np.ones((m, m)))\n",
    "    \n",
    "    # ...to center K\n",
    "    K_c = H @ K @ H\n",
    "    \n",
    "    # test statistic\n",
    "    stat = 1/(m**2) * np.sum(np.multiply(K_c.T, L))\n",
    "    \n",
    "    # initiating HSIC\n",
    "    HSIC_arr = np.zeros(shuffle)\n",
    "    \n",
    "    # create permutations by reshuffling L except the main diagonal\n",
    "    for sh in range(shuffle):\n",
    "        n = ~np.eye(len(L), dtype=bool)\n",
    "        Ln = L[n]\n",
    "        np.random.shuffle(Ln)\n",
    "        L[n] = Ln\n",
    "        HSIC_arr[sh] = 1/(m**2) * np.sum(np.multiply(K_c.T, L))\n",
    "        \n",
    "    HSIC_arr_sort = np.sort(HSIC_arr)\n",
    "    \n",
    "    # computing 1-alpha threshold\n",
    "    threshold = HSIC_arr_sort[round((1-alpha)*shuffle)]\n",
    "    \n",
    "    if stat > threshold:\n",
    "        print('H0 rejected')\n",
    "    else:\n",
    "        print('H0 accepted')\n",
    "    \n",
    "    return (stat, threshold)"
   ]
  },
  {
   "cell_type": "markdown",
   "metadata": {},
   "source": [
    "## HSIC with Gamma distribution approximation"
   ]
  },
  {
   "cell_type": "code",
   "execution_count": 45,
   "metadata": {},
   "outputs": [],
   "source": [
    "def HSIC_gamma(X, Y, alpha, width_X, width_Y):    # set widths to -1 for median heuristics\n",
    "    \n",
    "    m = X.shape[0]\n",
    "    \n",
    "    # median heuristics for kernel width\n",
    "    if width_X == -1:\n",
    "        width_X = width(X)      \n",
    "    if width_Y == -1:\n",
    "        width_Y = width(Y)\n",
    "    \n",
    "    # compute Gram matrices\n",
    "    K = rbf_dot(X, X, width_X)\n",
    "    L = rbf_dot(Y, Y, width_Y)\n",
    "    \n",
    "    # centering matrix...\n",
    "    H = np.eye(m) - (1/m) * (np.ones((m, m)))\n",
    "    \n",
    "    # ...to center K and L\n",
    "    K_c = H @ K @ H\n",
    "    L_c = H @ L @ H\n",
    "    \n",
    "    # test statistic\n",
    "    stat = 1/m * np.sum(np.multiply(K_c.T, L))\n",
    "    \n",
    "    # fitting Gamma distribution to stat*m\n",
    "    vHSIC = np.power(1/6 * np.multiply(K_c, L_c), 2)\n",
    "    vaHSIC = 1/(m*(m-1)) * (np.sum(vHSIC) - np.trace(vHSIC))\n",
    "    varHSIC = 72*(m-4)*(m-5)/(m*(m-1)*(m-2)*(m-3)) * vaHSIC    # variance under H0\n",
    "        \n",
    "    K_diag = K - np.diag(np.diag(K))\n",
    "    L_diag = L - np.diag(np.diag(L))\n",
    "    \n",
    "    bone = np.ones(m)\n",
    "    \n",
    "    mu_X = 1/(m*(m-1)) * bone @ (K @ bone)\n",
    "    mu_Y = 1/(m*(m-1)) * bone @ (L @ bone)\n",
    "    \n",
    "    mHSIC = 1/m * (1 + mu_X * mu_Y - mu_X - mu_Y)    # mean under H0\n",
    "    \n",
    "    al = mHSIC**2 / varHSIC\n",
    "    bet = varHSIC * m / mHSIC\n",
    "    \n",
    "    # computing 1-alpha threshold\n",
    "    threshold = gamma.ppf(1-alpha, al, scale=bet)\n",
    "    \n",
    "    if stat > threshold:\n",
    "        print('H0 rejected')\n",
    "    else:\n",
    "        print('H0 accepted')\n",
    "    \n",
    "    return (stat, threshold)"
   ]
  },
  {
   "cell_type": "markdown",
   "metadata": {},
   "source": [
    "### Evaluations"
   ]
  },
  {
   "cell_type": "code",
   "execution_count": 46,
   "metadata": {
    "scrolled": false
   },
   "outputs": [
    {
     "name": "stdout",
     "output_type": "stream",
     "text": [
      "H0 accepted\n"
     ]
    },
    {
     "data": {
      "text/plain": [
       "(1.775419288157741e-10, 1.828803704932952e-10)"
      ]
     },
     "execution_count": 46,
     "metadata": {},
     "output_type": "execute_result"
    }
   ],
   "source": [
    "# test level alpha = 0.05\n",
    "HSIC_permutations(X, Y, 0.05, -1, -1, 5000)"
   ]
  },
  {
   "cell_type": "code",
   "execution_count": 47,
   "metadata": {},
   "outputs": [
    {
     "name": "stdout",
     "output_type": "stream",
     "text": [
      "H0 accepted\n"
     ]
    },
    {
     "data": {
      "text/plain": [
       "(3.550838576315482e-09, 0.0027636120458583925)"
      ]
     },
     "execution_count": 47,
     "metadata": {},
     "output_type": "execute_result"
    }
   ],
   "source": [
    "# test level alpha = 0.05\n",
    "HSIC_gamma(X, Y, 0.05, -1, -1)"
   ]
  },
  {
   "cell_type": "code",
   "execution_count": null,
   "metadata": {},
   "outputs": [],
   "source": []
  },
  {
   "cell_type": "code",
   "execution_count": null,
   "metadata": {},
   "outputs": [],
   "source": []
  }
 ],
 "metadata": {
  "kernelspec": {
   "display_name": "Python 3",
   "language": "python",
   "name": "python3"
  },
  "language_info": {
   "codemirror_mode": {
    "name": "ipython",
    "version": 3
   },
   "file_extension": ".py",
   "mimetype": "text/x-python",
   "name": "python",
   "nbconvert_exporter": "python",
   "pygments_lexer": "ipython3",
   "version": "3.7.4"
  }
 },
 "nbformat": 4,
 "nbformat_minor": 2
}
