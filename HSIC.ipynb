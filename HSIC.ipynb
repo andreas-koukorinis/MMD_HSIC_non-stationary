{
 "cells": [
  {
   "cell_type": "code",
   "execution_count": 1,
   "metadata": {},
   "outputs": [],
   "source": [
    "import numpy as np\n",
    "import pandas as pd\n",
    "from sklearn import preprocessing\n",
    "import matplotlib.pyplot as plt\n",
    "import sklearn.metrics as metrics"
   ]
  },
  {
   "cell_type": "markdown",
   "metadata": {},
   "source": [
    "Different combinations of $(X, Y)$ to evaluate the approximation methods"
   ]
  },
  {
   "cell_type": "code",
   "execution_count": 2,
   "metadata": {},
   "outputs": [],
   "source": [
    "X = np.random.exponential(size=40)[:, None]\n",
    "#Y = np.random.chisquare(5, size=1000)[:, None]\n",
    "#X = np.random.randn(40)[:, None]\n",
    "Y = (np.random.randn(40)+20)[:, None]"
   ]
  },
  {
   "cell_type": "markdown",
   "metadata": {},
   "source": [
    "Show quickly the distributions."
   ]
  },
  {
   "cell_type": "code",
   "execution_count": 3,
   "metadata": {},
   "outputs": [
    {
     "data": {
      "text/plain": [
       "(array([13.,  9.,  9.,  4.,  1.,  2.,  1.,  0.,  0.,  1.]),\n",
       " array([0.00696522, 0.34892109, 0.69087696, 1.03283283, 1.3747887 ,\n",
       "        1.71674457, 2.05870044, 2.40065631, 2.74261218, 3.08456805,\n",
       "        3.42652392]),\n",
       " <a list of 10 Patch objects>)"
      ]
     },
     "execution_count": 3,
     "metadata": {},
     "output_type": "execute_result"
    },
    {
     "data": {
      "image/png": "[encoded data removed]",
      "text/plain": [
       "<Figure size 432x288 with 1 Axes>"
      ]
     },
     "metadata": {
      "needs_background": "light"
     },
     "output_type": "display_data"
    }
   ],
   "source": [
    "plt.hist(X, bins=10)"
   ]
  },
  {
   "cell_type": "code",
   "execution_count": 4,
   "metadata": {},
   "outputs": [
    {
     "data": {
      "text/plain": [
       "(array([2., 1., 2., 7., 4., 7., 9., 2., 3., 3.]),\n",
       " array([18.22480662, 18.61529586, 19.0057851 , 19.39627434, 19.78676358,\n",
       "        20.17725282, 20.56774206, 20.95823129, 21.34872053, 21.73920977,\n",
       "        22.12969901]),\n",
       " <a list of 10 Patch objects>)"
      ]
     },
     "execution_count": 4,
     "metadata": {},
     "output_type": "execute_result"
    },
    {
     "data": {
      "image/png": "[encoded data removed]",
      "text/plain": [
       "<Figure size 432x288 with 1 Axes>"
      ]
     },
     "metadata": {
      "needs_background": "light"
     },
     "output_type": "display_data"
    }
   ],
   "source": [
    "plt.hist(Y, bins=10)"
   ]
  },
  {
   "cell_type": "markdown",
   "metadata": {},
   "source": [
    "### Auxiliary functions"
   ]
  },
  {
   "cell_type": "code",
   "execution_count": 27,
   "metadata": {},
   "outputs": [],
   "source": [
    "def H(X):\n",
    "    m = X.shape[0]\n",
    "    return np.identity(m) - (1/m) * (np.ones((m, m)))\n",
    "\n",
    "# aggregate two samples\n",
    "def agg_sample(X,Y):\n",
    "    return np.array(list(X) + list(Y)).reshape(-1, 1)\n",
    "\n",
    "# compute median\n",
    "def median(X,Y):   \n",
    "    distances = metrics.pairwise_distances(agg_sample(X,Y))    # distances in m x m matrix\n",
    "    return np.median(distances)\n",
    "\n",
    "# Gaussian kernel\n",
    "def k(X, Y):\n",
    "    sigma = median(X,Y)\n",
    "    return metrics.pairwise.rbf_kernel(X.reshape(-1, 1), Y.reshape(-1, 1), gamma=1/(sigma**2))"
   ]
  },
  {
   "cell_type": "markdown",
   "metadata": {},
   "source": [
    "# Biased MMD\n",
    "\n",
    "First, we compute the biased MMD to have a measure how different the two distributions $P_X$ and $P_Y$ are in the RKHS."
   ]
  },
  {
   "cell_type": "code",
   "execution_count": 32,
   "metadata": {},
   "outputs": [],
   "source": [
    "# biased MMD estimator\n",
    "def MMD_b(X,Y):\n",
    "    Kx = k(X,X)\n",
    "    Ky = k(Y,Y)\n",
    "    m = X.shape[0]\n",
    "    return (1/m**2) * np.trace(Kx @ H(X) @ Ky @ H(X))"
   ]
  },
  {
   "cell_type": "code",
   "execution_count": 33,
   "metadata": {},
   "outputs": [
    {
     "data": {
      "text/plain": [
       "0.009890865354491732"
      ]
     },
     "execution_count": 33,
     "metadata": {},
     "output_type": "execute_result"
    }
   ],
   "source": [
    "MMD_b(X, Y)"
   ]
  },
  {
   "cell_type": "markdown",
   "metadata": {},
   "source": [
    "# Unbiased MMD\n",
    "Next, we compute the MMD with bias correction."
   ]
  },
  {
   "cell_type": "code",
   "execution_count": 19,
   "metadata": {},
   "outputs": [],
   "source": [
    "# unbiased MMD estimator\n",
    "def MMD_u(X,Y):\n",
    "    return np.sqrt( 1/(m*(m-1)) * (np.matrix(k(X,X)).sum() + np.matrix(k(Y,Y)).sum() - 2 * np.matrix(k(X,Y)).sum()))"
   ]
  },
  {
   "cell_type": "code",
   "execution_count": 20,
   "metadata": {},
   "outputs": [
    {
     "data": {
      "text/plain": [
       "0.9268660512612373"
      ]
     },
     "execution_count": 20,
     "metadata": {},
     "output_type": "execute_result"
    }
   ],
   "source": [
    "MMD_u(X, Y)"
   ]
  },
  {
   "cell_type": "markdown",
   "metadata": {},
   "source": [
    "# HSIC with Gamma approximation\n",
    "\n",
    "$\\mathcal{H}_0 : P_{XY} = P_X P_Y$ is a complex distribution and must be approximated. Here, we approximate it by a Gamma distribution with parameters $\\alpha$ (`al`) and $\\beta$ (`beta`)."
   ]
  },
  {
   "cell_type": "code",
   "execution_count": 12,
   "metadata": {},
   "outputs": [],
   "source": [
    "from scipy.stats import gamma"
   ]
  },
  {
   "cell_type": "code",
   "execution_count": 36,
   "metadata": {},
   "outputs": [],
   "source": [
    "def HSIC_gamma(X,Y,alpha):\n",
    "    \n",
    "    Kx = k(X,X)\n",
    "    Ky = k(Y,Y)\n",
    "    \n",
    "    m = X.shape[0]\n",
    "    \n",
    "    # c for centred Gram matrices\n",
    "    Kx_c = H(X) @ Kx @ H(X)    \n",
    "    Ky_c = H(X) @ Ky @ H(X)\n",
    "    \n",
    "    # test statistic\n",
    "    stat = (1/m) * (Kx_c.T @ Ky_c).sum()\n",
    "    \n",
    "    mX = 1/(m*(m-1)) * (np.ones((m,1)).T @ Kx @ np.ones((m,1)))\n",
    "    mY = 1/(m*(m-1)) * (np.ones((m,1)).T @ Ky @ np.ones((m,1)))\n",
    "    \n",
    "    varHSIC = (1/6 * (Kx_c.T @ Ky_c))**2\n",
    "    varHSIC = 1/(m*(m-1)) * (np.sum(varHSIC) - np.trace(varHSIC))\n",
    "    varHSIC = varHSIC * 72 * (m-4) * (m-5) / (m*(m-1)*(m-2)*(m-3))\n",
    "    \n",
    "    mHSIC = 1/m * (1 + mX * mY - mX - mY)\n",
    "    \n",
    "    # Gamma distribution parameters\n",
    "    al = mHSIC**2 / varHSIC\n",
    "    beta = m*varHSIC / mHSIC\n",
    "    \n",
    "    # 1-alpha threshold\n",
    "    threshold = gamma.ppf(1-alpha, al, scale=beta)[0][0]\n",
    "    \n",
    "    if stat > threshold:\n",
    "        print('H0 rejected')\n",
    "    else:\n",
    "        print('H0 accepted')\n",
    "    \n",
    "    return (stat, threshold)"
   ]
  },
  {
   "cell_type": "code",
   "execution_count": 37,
   "metadata": {},
   "outputs": [
    {
     "name": "stdout",
     "output_type": "stream",
     "text": [
      "H0 accepted\n",
      "p-value: 4.3021142204224816e-16\n",
      "H0 accepted\n",
      "test threshold: 1.780345481791046\n"
     ]
    }
   ],
   "source": [
    "# test level alpha = 0.05\n",
    "print('p-value:', HSIC_gamma(X,Y,0.05)[0])\n",
    "print('test threshold:', HSIC_gamma(X,Y,0.05)[1])"
   ]
  },
  {
   "cell_type": "markdown",
   "metadata": {},
   "source": [
    "# dHSIC\n",
    "$\\mathcal{H}_0 : P_{\\boldsymbol{X}} = P_{X_1} P_{X_2} P_{X_3} ... P_{X_d} $ must also be approximated."
   ]
  },
  {
   "cell_type": "code",
   "execution_count": 38,
   "metadata": {},
   "outputs": [],
   "source": [
    "# generate 50 random variables with m measurements each\n",
    "X = np.random.randn(10000).reshape(50,-1)"
   ]
  },
  {
   "cell_type": "code",
   "execution_count": 39,
   "metadata": {},
   "outputs": [],
   "source": [
    "def dHSIC(X):\n",
    "    K = {}\n",
    "    \n",
    "    # number of random variables d and measurements m\n",
    "    d, m = X.shape\n",
    "    \n",
    "    for j in range(d):\n",
    "        K[j] = metrics.pairwise.rbf_kernel(X[j].reshape(-1,1))    # m x m matrix\n",
    "\n",
    "    term1 = np.ones((m,m))\n",
    "    term2 = 1\n",
    "    term3 = np.full((1,m), 2/m)\n",
    "\n",
    "    for j in range(d):\n",
    "        term1 = term1 @ K[j]\n",
    "        term2 = 1/(m**2) * term2 * K[j].sum()\n",
    "        term3 = 1/m * term3 * K[j].sum(axis=0)\n",
    "    \n",
    "    return 1/(m**2) * term1.sum() + term2 - term3.sum()"
   ]
  },
  {
   "cell_type": "code",
   "execution_count": 40,
   "metadata": {},
   "outputs": [
    {
     "data": {
      "text/plain": [
       "7.395038771939209e+97"
      ]
     },
     "execution_count": 40,
     "metadata": {},
     "output_type": "execute_result"
    }
   ],
   "source": [
    "# joint independence between 50 random normal distributions with m measurements each\n",
    "dHSIC(X)"
   ]
  },
  {
   "cell_type": "code",
   "execution_count": null,
   "metadata": {},
   "outputs": [],
   "source": []
  },
  {
   "cell_type": "code",
   "execution_count": null,
   "metadata": {},
   "outputs": [],
   "source": []
  },
  {
   "cell_type": "code",
   "execution_count": null,
   "metadata": {},
   "outputs": [],
   "source": []
  },
  {
   "cell_type": "code",
   "execution_count": null,
   "metadata": {},
   "outputs": [],
   "source": []
  }
 ],
 "metadata": {
  "kernelspec": {
   "display_name": "Python 3",
   "language": "python",
   "name": "python3"
  },
  "language_info": {
   "codemirror_mode": {
    "name": "ipython",
    "version": 3
   },
   "file_extension": ".py",
   "mimetype": "text/x-python",
   "name": "python",
   "nbconvert_exporter": "python",
   "pygments_lexer": "ipython3",
   "version": "3.6.8"
  }
 },
 "nbformat": 4,
 "nbformat_minor": 2
}
