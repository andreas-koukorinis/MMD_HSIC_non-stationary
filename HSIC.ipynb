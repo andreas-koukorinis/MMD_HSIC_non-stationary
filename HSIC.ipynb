{
 "cells": [
  {
   "cell_type": "code",
   "execution_count": 1,
   "metadata": {},
   "outputs": [],
   "source": [
    "import numpy as np\n",
    "import pandas as pd\n",
    "from sklearn import preprocessing\n",
    "import matplotlib.pyplot as plt\n",
    "import sklearn.metrics as metrics"
   ]
  },
  {
   "cell_type": "markdown",
   "metadata": {},
   "source": [
    "Different combinations of $(X, Y)$ to evaluate the approximation methods"
   ]
  },
  {
   "cell_type": "code",
   "execution_count": 130,
   "metadata": {},
   "outputs": [],
   "source": [
    "X = np.random.normal(0, 1, 3500)\n",
    "\n",
    "#X = np.random.exponential(size=100)[:, None]\n",
    "#X = np.random.chisquare(1, size=20)[:, None]\n",
    "#X = preprocessing.scale(np.random.uniform(-4, 4, size=1000))\n",
    "#X = np.random.randn(1000)[:, None]\n",
    "#Y = (np.random.randn(1000)+0)[:, None]\n",
    "Y = X**3"
   ]
  },
  {
   "cell_type": "code",
   "execution_count": 131,
   "metadata": {},
   "outputs": [
    {
     "data": {
      "text/plain": [
       "(array([  1.,   0.,   0.,   0.,   0.,   0.,   1.,   4.,   4.,   2.,   3.,\n",
       "          4.,   5.,   6.,  12.,   8.,   8.,   7.,  10.,  13.,  16.,  26.,\n",
       "         28.,  24.,  24.,  41.,  32.,  38.,  51.,  55.,  38.,  72.,  70.,\n",
       "         75.,  85.,  81.,  84.,  94., 103.,  78., 105., 103., 103., 109.,\n",
       "        110., 109., 101.,  77.,  94.,  89.,  82.,  94.,  92.,  96.,  75.,\n",
       "         70.,  83.,  57.,  73.,  74.,  68.,  53.,  58.,  46.,  27.,  40.,\n",
       "         38.,  24.,  24.,  15.,  17.,  20.,  13.,  14.,  11.,   8.,   2.,\n",
       "          5.,   8.,   3.,   1.,   3.,   0.,   0.,   0.,   0.,   0.,   0.,\n",
       "          0.,   0.,   0.,   0.,   0.,   1.,   0.,   1.,   0.,   0.,   0.,\n",
       "          1.]),\n",
       " array([-3.38997624, -3.31515877, -3.2403413 , -3.16552383, -3.09070636,\n",
       "        -3.01588889, -2.94107142, -2.86625395, -2.79143648, -2.71661901,\n",
       "        -2.64180154, -2.56698407, -2.4921666 , -2.41734913, -2.34253166,\n",
       "        -2.26771419, -2.19289672, -2.11807925, -2.04326178, -1.96844431,\n",
       "        -1.89362684, -1.81880937, -1.7439919 , -1.66917443, -1.59435696,\n",
       "        -1.51953949, -1.44472202, -1.36990455, -1.29508708, -1.22026961,\n",
       "        -1.14545214, -1.07063467, -0.9958172 , -0.92099973, -0.84618226,\n",
       "        -0.77136479, -0.69654732, -0.62172985, -0.54691238, -0.47209491,\n",
       "        -0.39727744, -0.32245997, -0.2476425 , -0.17282503, -0.09800756,\n",
       "        -0.02319009,  0.05162738,  0.12644485,  0.20126232,  0.27607979,\n",
       "         0.35089726,  0.42571473,  0.5005322 ,  0.57534967,  0.65016714,\n",
       "         0.72498461,  0.79980208,  0.87461955,  0.94943702,  1.02425449,\n",
       "         1.09907196,  1.17388943,  1.2487069 ,  1.32352437,  1.39834184,\n",
       "         1.47315931,  1.54797678,  1.62279425,  1.69761172,  1.77242919,\n",
       "         1.84724666,  1.92206413,  1.9968816 ,  2.07169907,  2.14651654,\n",
       "         2.22133401,  2.29615148,  2.37096895,  2.44578642,  2.52060389,\n",
       "         2.59542136,  2.67023883,  2.7450563 ,  2.81987377,  2.89469124,\n",
       "         2.96950871,  3.04432618,  3.11914365,  3.19396113,  3.2687786 ,\n",
       "         3.34359607,  3.41841354,  3.49323101,  3.56804848,  3.64286595,\n",
       "         3.71768342,  3.79250089,  3.86731836,  3.94213583,  4.0169533 ,\n",
       "         4.09177077]),\n",
       " <a list of 100 Patch objects>)"
      ]
     },
     "execution_count": 131,
     "metadata": {},
     "output_type": "execute_result"
    },
    {
     "data": {
      "image/png": "[encoded data removed]",
      "text/plain": [
       "<Figure size 432x288 with 1 Axes>"
      ]
     },
     "metadata": {
      "needs_background": "light"
     },
     "output_type": "display_data"
    }
   ],
   "source": [
    "plt.hist(X, bins=100)"
   ]
  },
  {
   "cell_type": "code",
   "execution_count": 132,
   "metadata": {},
   "outputs": [
    {
     "data": {
      "text/plain": [
       "(array([1.000e+00, 0.000e+00, 0.000e+00, 0.000e+00, 0.000e+00, 0.000e+00,\n",
       "        0.000e+00, 0.000e+00, 0.000e+00, 0.000e+00, 0.000e+00, 0.000e+00,\n",
       "        1.000e+00, 0.000e+00, 0.000e+00, 4.000e+00, 3.000e+00, 1.000e+00,\n",
       "        2.000e+00, 1.000e+00, 4.000e+00, 2.000e+00, 5.000e+00, 4.000e+00,\n",
       "        8.000e+00, 1.000e+01, 7.000e+00, 1.000e+01, 1.200e+01, 1.400e+01,\n",
       "        2.600e+01, 4.600e+01, 4.600e+01, 8.500e+01, 1.480e+02, 4.620e+02,\n",
       "        1.937e+03, 2.730e+02, 1.250e+02, 7.200e+01, 5.400e+01, 2.600e+01,\n",
       "        2.200e+01, 2.700e+01, 1.100e+01, 1.500e+01, 8.000e+00, 3.000e+00,\n",
       "        3.000e+00, 4.000e+00, 7.000e+00, 3.000e+00, 1.000e+00, 1.000e+00,\n",
       "        2.000e+00, 1.000e+00, 0.000e+00, 0.000e+00, 0.000e+00, 0.000e+00,\n",
       "        0.000e+00, 0.000e+00, 0.000e+00, 0.000e+00, 0.000e+00, 0.000e+00,\n",
       "        0.000e+00, 0.000e+00, 0.000e+00, 0.000e+00, 0.000e+00, 0.000e+00,\n",
       "        0.000e+00, 0.000e+00, 0.000e+00, 0.000e+00, 0.000e+00, 0.000e+00,\n",
       "        0.000e+00, 0.000e+00, 1.000e+00, 0.000e+00, 0.000e+00, 0.000e+00,\n",
       "        0.000e+00, 1.000e+00, 0.000e+00, 0.000e+00, 0.000e+00, 0.000e+00,\n",
       "        0.000e+00, 0.000e+00, 0.000e+00, 0.000e+00, 0.000e+00, 0.000e+00,\n",
       "        0.000e+00, 0.000e+00, 0.000e+00, 1.000e+00]),\n",
       " array([-38.95739979, -37.88275748, -36.80811516, -35.73347284,\n",
       "        -34.65883052, -33.5841882 , -32.50954588, -31.43490356,\n",
       "        -30.36026124, -29.28561892, -28.2109766 , -27.13633429,\n",
       "        -26.06169197, -24.98704965, -23.91240733, -22.83776501,\n",
       "        -21.76312269, -20.68848037, -19.61383805, -18.53919573,\n",
       "        -17.46455341, -16.3899111 , -15.31526878, -14.24062646,\n",
       "        -13.16598414, -12.09134182, -11.0166995 ,  -9.94205718,\n",
       "         -8.86741486,  -7.79277254,  -6.71813022,  -5.64348791,\n",
       "         -4.56884559,  -3.49420327,  -2.41956095,  -1.34491863,\n",
       "         -0.27027631,   0.80436601,   1.87900833,   2.95365065,\n",
       "          4.02829297,   5.10293529,   6.1775776 ,   7.25221992,\n",
       "          8.32686224,   9.40150456,  10.47614688,  11.5507892 ,\n",
       "         12.62543152,  13.70007384,  14.77471616,  15.84935848,\n",
       "         16.92400079,  17.99864311,  19.07328543,  20.14792775,\n",
       "         21.22257007,  22.29721239,  23.37185471,  24.44649703,\n",
       "         25.52113935,  26.59578167,  27.67042398,  28.7450663 ,\n",
       "         29.81970862,  30.89435094,  31.96899326,  33.04363558,\n",
       "         34.1182779 ,  35.19292022,  36.26756254,  37.34220486,\n",
       "         38.41684717,  39.49148949,  40.56613181,  41.64077413,\n",
       "         42.71541645,  43.79005877,  44.86470109,  45.93934341,\n",
       "         47.01398573,  48.08862805,  49.16327036,  50.23791268,\n",
       "         51.312555  ,  52.38719732,  53.46183964,  54.53648196,\n",
       "         55.61112428,  56.6857666 ,  57.76040892,  58.83505124,\n",
       "         59.90969355,  60.98433587,  62.05897819,  63.13362051,\n",
       "         64.20826283,  65.28290515,  66.35754747,  67.43218979,\n",
       "         68.50683211]),\n",
       " <a list of 100 Patch objects>)"
      ]
     },
     "execution_count": 132,
     "metadata": {},
     "output_type": "execute_result"
    },
    {
     "data": {
      "image/png": "[encoded data removed]",
      "text/plain": [
       "<Figure size 432x288 with 1 Axes>"
      ]
     },
     "metadata": {
      "needs_background": "light"
     },
     "output_type": "display_data"
    }
   ],
   "source": [
    "plt.hist(Y, bins=100)"
   ]
  },
  {
   "cell_type": "code",
   "execution_count": 133,
   "metadata": {},
   "outputs": [
    {
     "data": {
      "text/plain": [
       "<matplotlib.collections.PathCollection at 0x7f077ea24e90>"
      ]
     },
     "execution_count": 133,
     "metadata": {},
     "output_type": "execute_result"
    },
    {
     "data": {
      "image/png": "[encoded data removed]",
      "text/plain": [
       "<Figure size 432x288 with 1 Axes>"
      ]
     },
     "metadata": {
      "needs_background": "light"
     },
     "output_type": "display_data"
    }
   ],
   "source": [
    "plt.scatter(X, Y)"
   ]
  },
  {
   "cell_type": "markdown",
   "metadata": {},
   "source": [
    "Show quickly the distributions."
   ]
  },
  {
   "cell_type": "code",
   "execution_count": 134,
   "metadata": {},
   "outputs": [
    {
     "name": "stdout",
     "output_type": "stream",
     "text": [
      "X:\n",
      "0.012565194466833022\n",
      "0.9886925547359631\n",
      "-----------------------\n",
      "Y:\n",
      "0.03686842334859394\n",
      "3.6489586160357983\n"
     ]
    }
   ],
   "source": [
    "print('X:')\n",
    "print(X.mean())\n",
    "print(X.std())\n",
    "print('-----------------------')\n",
    "print('Y:')\n",
    "print(Y.mean())\n",
    "print(Y.std())"
   ]
  },
  {
   "cell_type": "markdown",
   "metadata": {},
   "source": [
    "### Auxiliary functions"
   ]
  },
  {
   "cell_type": "code",
   "execution_count": 135,
   "metadata": {},
   "outputs": [],
   "source": [
    "def H(X):\n",
    "    m = X.shape[0]\n",
    "    return np.identity(m) - (1/m) * (np.ones((m, m)))\n",
    "\n",
    "# aggregate two samples\n",
    "def agg_sample(X,Y):\n",
    "    return np.array(list(X) + list(Y)).reshape(-1, 1)\n",
    "\n",
    "# compute median\n",
    "def median(X,Y):   \n",
    "    distances = metrics.pairwise_distances(agg_sample(X,Y))    # distances in m x m matrix\n",
    "    return np.median(distances)\n",
    "\n",
    "# Gaussian kernel\n",
    "def k(X, Y):\n",
    "    sigma = median(X,Y)\n",
    "    return metrics.pairwise.rbf_kernel(X.reshape(-1, 1), Y.reshape(-1, 1), gamma=1/(sigma**2))"
   ]
  },
  {
   "cell_type": "code",
   "execution_count": 136,
   "metadata": {},
   "outputs": [
    {
     "data": {
      "text/plain": [
       "1.0171915341161666"
      ]
     },
     "execution_count": 136,
     "metadata": {},
     "output_type": "execute_result"
    }
   ],
   "source": [
    "median(X,Y)"
   ]
  },
  {
   "cell_type": "markdown",
   "metadata": {},
   "source": [
    "# Biased MMD\n",
    "\n",
    "First, we compute the biased MMD to have a measure how different the two distributions $P_X$ and $P_Y$ are in the RKHS."
   ]
  },
  {
   "cell_type": "code",
   "execution_count": 137,
   "metadata": {},
   "outputs": [],
   "source": [
    "# biased MMD estimator\n",
    "def MMD_b(X,Y):\n",
    "    Kx = k(X,X)\n",
    "    Ky = k(Y,Y)\n",
    "    m = X.shape[0]\n",
    "    return (1/m**2) * np.trace(Kx @ H(X) @ Ky @ H(X))"
   ]
  },
  {
   "cell_type": "code",
   "execution_count": 138,
   "metadata": {},
   "outputs": [
    {
     "data": {
      "text/plain": [
       "0.05491151655608356"
      ]
     },
     "execution_count": 138,
     "metadata": {},
     "output_type": "execute_result"
    }
   ],
   "source": [
    "MMD_b(X, Y)"
   ]
  },
  {
   "cell_type": "markdown",
   "metadata": {},
   "source": [
    "# Unbiased MMD\n",
    "Next, we compute the MMD with bias correction."
   ]
  },
  {
   "cell_type": "code",
   "execution_count": 139,
   "metadata": {},
   "outputs": [],
   "source": [
    "# unbiased MMD estimator\n",
    "def MMD_u(X,Y):\n",
    "    m = X.shape[0]\n",
    "    return np.sqrt( 1/(m*(m-1)) * (np.matrix(k(X,X)).sum() + np.matrix(k(Y,Y)).sum() - 2 * np.matrix(k(X,Y)).sum()))"
   ]
  },
  {
   "cell_type": "code",
   "execution_count": 140,
   "metadata": {},
   "outputs": [
    {
     "data": {
      "text/plain": [
       "0.190616103397236"
      ]
     },
     "execution_count": 140,
     "metadata": {},
     "output_type": "execute_result"
    }
   ],
   "source": [
    "MMD_u(X, Y)"
   ]
  },
  {
   "cell_type": "markdown",
   "metadata": {},
   "source": [
    "# HSIC with Gamma approximation\n",
    "\n",
    "$\\mathcal{H}_0 : P_{XY} = P_X P_Y$ is a complex distribution and must be approximated. Here, we approximate it by a Gamma distribution with parameters $\\alpha$ (`al`) and $\\beta$ (`beta`)."
   ]
  },
  {
   "cell_type": "code",
   "execution_count": 141,
   "metadata": {},
   "outputs": [],
   "source": [
    "from scipy.stats import gamma"
   ]
  },
  {
   "cell_type": "code",
   "execution_count": 142,
   "metadata": {},
   "outputs": [],
   "source": [
    "def HSIC_gamma(X,Y,alpha):\n",
    "    \n",
    "    Kx = k(X,X)\n",
    "    Ky = k(Y,Y)\n",
    "    \n",
    "    m = X.shape[0]\n",
    "    \n",
    "    # c for centred Gram matrices\n",
    "    Kx_c = H(X) @ Kx @ H(X)    \n",
    "    Ky_c = H(X) @ Ky @ H(X)\n",
    "    \n",
    "    # test statistic\n",
    "    stat = (1/m) * (Kx_c.T @ Ky_c).sum()\n",
    "    \n",
    "    mX = 1/(m*(m-1)) * (np.ones((m,1)).T @ Kx @ np.ones((m,1)))\n",
    "    mY = 1/(m*(m-1)) * (np.ones((m,1)).T @ Ky @ np.ones((m,1)))\n",
    "    \n",
    "    varHSIC = (1/6 * (Kx_c.T @ Ky_c))**2\n",
    "    varHSIC = 1/(m*(m-1)) * (np.sum(varHSIC) - np.trace(varHSIC))\n",
    "    varHSIC = varHSIC * 72 * (m-4) * (m-5) / (m*(m-1)*(m-2)*(m-3))\n",
    "    \n",
    "    mHSIC = 1/m * (1 + mX * mY - mX - mY)\n",
    "    \n",
    "    # Gamma distribution parameters\n",
    "    al = mHSIC**2 / varHSIC\n",
    "    beta = m*varHSIC / mHSIC\n",
    "    \n",
    "    # 1-alpha threshold\n",
    "    threshold = gamma.ppf(1-alpha, al, scale=beta)[0][0]\n",
    "    \n",
    "    if stat > threshold:\n",
    "        print('H0 rejected')\n",
    "    else:\n",
    "        print('H0 accepted')\n",
    "    \n",
    "    return (stat, threshold)"
   ]
  },
  {
   "cell_type": "code",
   "execution_count": 143,
   "metadata": {},
   "outputs": [
    {
     "name": "stdout",
     "output_type": "stream",
     "text": [
      "H0 rejected\n",
      "p-value, test threshold: (1.117379205035312e-14, 0.0)\n"
     ]
    }
   ],
   "source": [
    "# test level alpha = 0.05\n",
    "print('p-value, test threshold:', HSIC_gamma(X,Y,0.05))"
   ]
  },
  {
   "cell_type": "markdown",
   "metadata": {},
   "source": [
    "# dHSIC\n",
    "$\\mathcal{H}_0 : P_{\\boldsymbol{X}} = P_{X_1} P_{X_2} P_{X_3} ... P_{X_d} $ must also be approximated."
   ]
  },
  {
   "cell_type": "code",
   "execution_count": 87,
   "metadata": {},
   "outputs": [],
   "source": [
    "# generate 50 random variables with m measurements each\n",
    "X = np.random.randn(10000).reshape(50,-1)"
   ]
  },
  {
   "cell_type": "code",
   "execution_count": null,
   "metadata": {},
   "outputs": [],
   "source": [
    "def dHSIC(X):\n",
    "    K = {}\n",
    "    \n",
    "    # number of random variables d and measurements m\n",
    "    d, m = X.shape\n",
    "    \n",
    "    for j in range(d):\n",
    "        K[j] = metrics.pairwise.rbf_kernel(X[j].reshape(-1,1))    # m x m matrix\n",
    "\n",
    "    term1 = np.ones((m,m))\n",
    "    term2 = 1\n",
    "    term3 = np.full((1,m), 2/m)\n",
    "\n",
    "    for j in range(d):\n",
    "        term1 = term1 @ K[j]\n",
    "        term2 = 1/(m**2) * term2 * K[j].sum()\n",
    "        term3 = 1/m * term3 * K[j].sum(axis=0)\n",
    "    \n",
    "    return 1/(m**2) * term1.sum() + term2 - term3.sum()"
   ]
  },
  {
   "cell_type": "code",
   "execution_count": null,
   "metadata": {},
   "outputs": [],
   "source": [
    "# joint independence between 50 random normal distributions with m measurements each\n",
    "dHSIC(X)"
   ]
  },
  {
   "cell_type": "code",
   "execution_count": null,
   "metadata": {},
   "outputs": [],
   "source": []
  },
  {
   "cell_type": "code",
   "execution_count": null,
   "metadata": {},
   "outputs": [],
   "source": []
  },
  {
   "cell_type": "code",
   "execution_count": null,
   "metadata": {},
   "outputs": [],
   "source": []
  },
  {
   "cell_type": "code",
   "execution_count": null,
   "metadata": {},
   "outputs": [],
   "source": []
  }
 ],
 "metadata": {
  "kernelspec": {
   "display_name": "Python 3",
   "language": "python",
   "name": "python3"
  },
  "language_info": {
   "codemirror_mode": {
    "name": "ipython",
    "version": 3
   },
   "file_extension": ".py",
   "mimetype": "text/x-python",
   "name": "python",
   "nbconvert_exporter": "python",
   "pygments_lexer": "ipython3",
   "version": "3.7.4"
  }
 },
 "nbformat": 4,
 "nbformat_minor": 2
}
