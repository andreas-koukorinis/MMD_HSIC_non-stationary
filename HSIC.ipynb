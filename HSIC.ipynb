{
 "cells": [
  {
   "cell_type": "code",
   "execution_count": 1,
   "metadata": {},
   "outputs": [],
   "source": [
    "import numpy as np\n",
    "import pandas as pd\n",
    "from sklearn import preprocessing\n",
    "import matplotlib.pyplot as plt\n",
    "import sklearn.metrics as metrics"
   ]
  },
  {
   "cell_type": "markdown",
   "metadata": {},
   "source": [
    "Different combinations of $(X, Y)$ to evaluate the approximation methods"
   ]
  },
  {
   "cell_type": "code",
   "execution_count": 810,
   "metadata": {},
   "outputs": [],
   "source": [
    "X = np.linspace(0,1, 80)\n",
    "\n",
    "#X = np.random.exponential(size=100)[:, None]\n",
    "#X = np.random.chisquare(1, size=20)[:, None]\n",
    "#X = preprocessing.scale(np.random.uniform(-4, 4, size=1000))\n",
    "#X = np.random.randn(1000)[:, None]\n",
    "#Y = (np.random.randn(1000)+0)[:, None]\n",
    "Y = X**2"
   ]
  },
  {
   "cell_type": "code",
   "execution_count": 811,
   "metadata": {},
   "outputs": [
    {
     "data": {
      "text/plain": [
       "<matplotlib.collections.PathCollection at 0x7fc4ca2e29e8>"
      ]
     },
     "execution_count": 811,
     "metadata": {},
     "output_type": "execute_result"
    },
    {
     "data": {
      "image/png": "[encoded data removed]",
      "text/plain": [
       "<Figure size 432x288 with 1 Axes>"
      ]
     },
     "metadata": {
      "needs_background": "light"
     },
     "output_type": "display_data"
    }
   ],
   "source": [
    "plt.scatter(X, Y)"
   ]
  },
  {
   "cell_type": "markdown",
   "metadata": {},
   "source": [
    "Show quickly the distributions."
   ]
  },
  {
   "cell_type": "code",
   "execution_count": 812,
   "metadata": {},
   "outputs": [
    {
     "name": "stdout",
     "output_type": "stream",
     "text": [
      "X:\n",
      "0.5\n",
      "0.2923064111077339\n",
      "-----------------------\n",
      "Y:\n",
      "0.33544303797468356\n",
      "0.30212697669233374\n"
     ]
    }
   ],
   "source": [
    "print('X:')\n",
    "print(X.mean())\n",
    "print(X.std())\n",
    "print('-----------------------')\n",
    "print('Y:')\n",
    "print(Y.mean())\n",
    "print(Y.std())"
   ]
  },
  {
   "cell_type": "code",
   "execution_count": 813,
   "metadata": {},
   "outputs": [
    {
     "data": {
      "text/plain": [
       "(array([4., 4., 4., 4., 4., 4., 4., 4., 4., 4., 4., 4., 4., 4., 4., 4., 4.,\n",
       "        4., 4., 4.]),\n",
       " array([0.  , 0.05, 0.1 , 0.15, 0.2 , 0.25, 0.3 , 0.35, 0.4 , 0.45, 0.5 ,\n",
       "        0.55, 0.6 , 0.65, 0.7 , 0.75, 0.8 , 0.85, 0.9 , 0.95, 1.  ]),\n",
       " <a list of 20 Patch objects>)"
      ]
     },
     "execution_count": 813,
     "metadata": {},
     "output_type": "execute_result"
    },
    {
     "data": {
      "image/png": "[encoded data removed]",
      "text/plain": [
       "<Figure size 432x288 with 1 Axes>"
      ]
     },
     "metadata": {
      "needs_background": "light"
     },
     "output_type": "display_data"
    }
   ],
   "source": [
    "plt.hist(X, bins=20)"
   ]
  },
  {
   "cell_type": "code",
   "execution_count": 814,
   "metadata": {},
   "outputs": [
    {
     "data": {
      "text/plain": [
       "(array([18.,  7.,  6.,  5.,  4.,  4.,  3.,  3.,  3.,  3.,  3.,  3.,  2.,\n",
       "         3.,  2.,  2.,  2.,  2.,  2.,  3.]),\n",
       " array([0.  , 0.05, 0.1 , 0.15, 0.2 , 0.25, 0.3 , 0.35, 0.4 , 0.45, 0.5 ,\n",
       "        0.55, 0.6 , 0.65, 0.7 , 0.75, 0.8 , 0.85, 0.9 , 0.95, 1.  ]),\n",
       " <a list of 20 Patch objects>)"
      ]
     },
     "execution_count": 814,
     "metadata": {},
     "output_type": "execute_result"
    },
    {
     "data": {
      "image/png": "[encoded data removed]",
      "text/plain": [
       "<Figure size 432x288 with 1 Axes>"
      ]
     },
     "metadata": {
      "needs_background": "light"
     },
     "output_type": "display_data"
    }
   ],
   "source": [
    "plt.hist(Y, bins=20)"
   ]
  },
  {
   "cell_type": "markdown",
   "metadata": {},
   "source": [
    "### Auxiliary functions"
   ]
  },
  {
   "cell_type": "code",
   "execution_count": 815,
   "metadata": {},
   "outputs": [],
   "source": [
    "def H(X):\n",
    "    m = X.shape[0]\n",
    "    return np.identity(m) - (1/m) * (np.ones((m, m)))\n",
    "\n",
    "# aggregate two samples\n",
    "def agg_sample(X,Y):\n",
    "    return np.array(list(X) + list(Y)).reshape(-1, 1)\n",
    "\n",
    "# compute median\n",
    "def median(X,Y):   \n",
    "    distances = metrics.pairwise_distances(agg_sample(X,Y))    # distances in m x m matrix\n",
    "    return np.median(distances)\n",
    "\n",
    "# Gaussian kernel\n",
    "def k(X, Y):\n",
    "    sigma = median(X,Y)\n",
    "    return metrics.pairwise.rbf_kernel(X.reshape(-1, 1), Y.reshape(-1, 1), gamma=1/(sigma**2))"
   ]
  },
  {
   "cell_type": "code",
   "execution_count": 816,
   "metadata": {},
   "outputs": [
    {
     "data": {
      "text/plain": [
       "0.30868450568819095"
      ]
     },
     "execution_count": 816,
     "metadata": {},
     "output_type": "execute_result"
    }
   ],
   "source": [
    "median(X,Y)"
   ]
  },
  {
   "cell_type": "markdown",
   "metadata": {},
   "source": [
    "# Biased MMD\n",
    "\n",
    "First, we compute the biased MMD to have a measure how different the two distributions $P_X$ and $P_Y$ are in the RKHS."
   ]
  },
  {
   "cell_type": "code",
   "execution_count": 817,
   "metadata": {},
   "outputs": [],
   "source": [
    "# biased MMD estimator\n",
    "def MMD_b(X,Y):\n",
    "    Kx = k(X,X)\n",
    "    Ky = k(Y,Y)\n",
    "    m = X.shape[0]\n",
    "    return (1/m**2) * np.trace(Kx @ H(X) @ Ky @ H(X))"
   ]
  },
  {
   "cell_type": "code",
   "execution_count": 818,
   "metadata": {},
   "outputs": [
    {
     "data": {
      "text/plain": [
       "0.1176069923992582"
      ]
     },
     "execution_count": 818,
     "metadata": {},
     "output_type": "execute_result"
    }
   ],
   "source": [
    "MMD_b(X, Y)"
   ]
  },
  {
   "cell_type": "markdown",
   "metadata": {},
   "source": [
    "# Unbiased MMD\n",
    "Next, we compute the MMD with bias correction."
   ]
  },
  {
   "cell_type": "code",
   "execution_count": 819,
   "metadata": {},
   "outputs": [],
   "source": [
    "# unbiased MMD estimator\n",
    "def MMD_u(X,Y):\n",
    "    m = X.shape[0]\n",
    "    return np.sqrt( 1/(m*(m-1)) * (np.matrix(k(X,X)).sum() + np.matrix(k(Y,Y)).sum() - 2 * np.matrix(k(X,Y)).sum()))"
   ]
  },
  {
   "cell_type": "code",
   "execution_count": 820,
   "metadata": {},
   "outputs": [
    {
     "data": {
      "text/plain": [
       "0.20125505305631583"
      ]
     },
     "execution_count": 820,
     "metadata": {},
     "output_type": "execute_result"
    }
   ],
   "source": [
    "MMD_u(X, Y)"
   ]
  },
  {
   "cell_type": "markdown",
   "metadata": {},
   "source": [
    "# HSIC with Gamma approximation\n",
    "\n",
    "$\\mathcal{H}_0 : P_{XY} = P_X P_Y$ is a complex distribution and must be approximated. Here, we approximate it by a Gamma distribution with parameters $\\alpha$ (`al`) and $\\beta$ (`beta`)."
   ]
  },
  {
   "cell_type": "code",
   "execution_count": 821,
   "metadata": {},
   "outputs": [],
   "source": [
    "from scipy.stats import gamma"
   ]
  },
  {
   "cell_type": "code",
   "execution_count": 822,
   "metadata": {},
   "outputs": [],
   "source": [
    "def HSIC_gamma(X,Y,alpha):\n",
    "    \n",
    "    Kx = k(X,X)\n",
    "    Ky = k(Y,Y)\n",
    "    \n",
    "    m = X.shape[0]\n",
    "    \n",
    "    # c for centred Gram matrices\n",
    "    Kx_c = H(X) @ Kx @ H(X)    \n",
    "    Ky_c = H(X) @ Ky @ H(X)\n",
    "    \n",
    "    # test statistic\n",
    "    stat = (1/m) * (Kx_c.T @ Ky_c).sum()\n",
    "    \n",
    "    mX = 1/(m*(m-1)) * (np.ones((m,1)).T @ Kx @ np.ones((m,1)))\n",
    "    mY = 1/(m*(m-1)) * (np.ones((m,1)).T @ Ky @ np.ones((m,1)))\n",
    "    \n",
    "    varHSIC = (1/6 * (Kx_c.T @ Ky_c))**2\n",
    "    varHSIC = 1/(m*(m-1)) * (np.sum(varHSIC) - np.trace(varHSIC))\n",
    "    varHSIC = varHSIC * 72 * (m-4) * (m-5) / (m*(m-1)*(m-2)*(m-3))\n",
    "    \n",
    "    mHSIC = 1/m * (1 + mX * mY - mX - mY)\n",
    "    \n",
    "    # Gamma distribution parameters\n",
    "    al = mHSIC**2 / varHSIC\n",
    "    beta = m*varHSIC / mHSIC\n",
    "    \n",
    "    # 1-alpha threshold\n",
    "    threshold = gamma.ppf(1-alpha, al, scale=beta)[0][0]\n",
    "    \n",
    "    if stat > threshold:\n",
    "        print('H0 rejected')\n",
    "    else:\n",
    "        print('H0 accepted')\n",
    "    \n",
    "    return (stat, threshold)"
   ]
  },
  {
   "cell_type": "code",
   "execution_count": 823,
   "metadata": {},
   "outputs": [
    {
     "name": "stdout",
     "output_type": "stream",
     "text": [
      "H0 rejected\n",
      "p-value: 1.5987211554602255e-15\n",
      "H0 rejected\n",
      "test threshold: 3.5299417687115456e-22\n"
     ]
    }
   ],
   "source": [
    "# test level alpha = 0.05\n",
    "print('p-value:', HSIC_gamma(X,Y,0.05)[0])\n",
    "print('test threshold:', HSIC_gamma(X,Y,0.05)[1])"
   ]
  },
  {
   "cell_type": "markdown",
   "metadata": {},
   "source": [
    "# dHSIC\n",
    "$\\mathcal{H}_0 : P_{\\boldsymbol{X}} = P_{X_1} P_{X_2} P_{X_3} ... P_{X_d} $ must also be approximated."
   ]
  },
  {
   "cell_type": "code",
   "execution_count": 332,
   "metadata": {},
   "outputs": [],
   "source": [
    "# generate 50 random variables with m measurements each\n",
    "X = np.random.randn(10000).reshape(50,-1)"
   ]
  },
  {
   "cell_type": "code",
   "execution_count": 333,
   "metadata": {},
   "outputs": [],
   "source": [
    "def dHSIC(X):\n",
    "    K = {}\n",
    "    \n",
    "    # number of random variables d and measurements m\n",
    "    d, m = X.shape\n",
    "    \n",
    "    for j in range(d):\n",
    "        K[j] = metrics.pairwise.rbf_kernel(X[j].reshape(-1,1))    # m x m matrix\n",
    "\n",
    "    term1 = np.ones((m,m))\n",
    "    term2 = 1\n",
    "    term3 = np.full((1,m), 2/m)\n",
    "\n",
    "    for j in range(d):\n",
    "        term1 = term1 @ K[j]\n",
    "        term2 = 1/(m**2) * term2 * K[j].sum()\n",
    "        term3 = 1/m * term3 * K[j].sum(axis=0)\n",
    "    \n",
    "    return 1/(m**2) * term1.sum() + term2 - term3.sum()"
   ]
  },
  {
   "cell_type": "code",
   "execution_count": 334,
   "metadata": {},
   "outputs": [
    {
     "data": {
      "text/plain": [
       "6.404952153268905e+97"
      ]
     },
     "execution_count": 334,
     "metadata": {},
     "output_type": "execute_result"
    }
   ],
   "source": [
    "# joint independence between 50 random normal distributions with m measurements each\n",
    "dHSIC(X)"
   ]
  },
  {
   "cell_type": "code",
   "execution_count": null,
   "metadata": {},
   "outputs": [],
   "source": []
  },
  {
   "cell_type": "code",
   "execution_count": null,
   "metadata": {},
   "outputs": [],
   "source": []
  },
  {
   "cell_type": "code",
   "execution_count": null,
   "metadata": {},
   "outputs": [],
   "source": []
  },
  {
   "cell_type": "code",
   "execution_count": null,
   "metadata": {},
   "outputs": [],
   "source": []
  }
 ],
 "metadata": {
  "kernelspec": {
   "display_name": "Python 3",
   "language": "python",
   "name": "python3"
  },
  "language_info": {
   "codemirror_mode": {
    "name": "ipython",
    "version": 3
   },
   "file_extension": ".py",
   "mimetype": "text/x-python",
   "name": "python",
   "nbconvert_exporter": "python",
   "pygments_lexer": "ipython3",
   "version": "3.6.8"
  }
 },
 "nbformat": 4,
 "nbformat_minor": 2
}
